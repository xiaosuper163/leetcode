{
 "cells": [
  {
   "cell_type": "markdown",
   "metadata": {},
   "source": [
    "# Member Retention Model\n",
    "In this notebook, I documented the path of building a predictive model to predict if a member will be churned or not. I experimented with several algorithms. Eventually, lightgbm is chosen to be the working algorithm for the sake of both precision and efficiency. Since there is lot of code which is used to test different algos but not being used in the final version, you have to skip those cells while running this notebook. The working path should be 1 ---> 2.1 ---> 2.2a ---> 3.3. Saving the intermediate table into the disk is an efficient approach while developing the pipeline. Feel free to skip those lines of saving files onto the disk when you make sure the whole pipeline works well. Eventually, the model will be saved into obj folder for future retrieval."
   ]
  },
  {
   "cell_type": "markdown",
   "metadata": {},
   "source": [
    "## Content\n",
    "- [1.Loading packages and dataset](#part-1)\n",
    "- [2.Data preprocessing](#part-2)\n",
    "    - [2.1 fill some na fields, performing some filtering](#part-21)\n",
    "    - [2.2a data preprocessing for tree based models, create hand-crafted feature to reflect the change](#part-22a)\n",
    "    - [2.2b data preprocessing for neural nets, flatten the table](#part-22b)\n",
    "- [3.Build predictive model](#part-3)\n",
    "    - [3.1 Random Forest](#part-31)\n",
    "    - [3.2 XGBOOST](#part-32)\n",
    "    - [3.3 Lightgbm](#part-33)\n",
    "    - [3.3 END! The code below is only for the experimenting purpose.](#part-33end)\n",
    "    - [3.4 Neural network](#part-34)\n",
    "    - [3.4a Sklearn multi-layer perceptron](#part-34a)\n",
    "    - [3.4b Neural network with Keras](#part-34b)\n",
    "    - [3.4c Autoencoding with Keras, then feed the encoded data into tree emsembling based model](#part-34c)\n",
    "    - [3.5 Logistic regression](#part-35)\n",
    "    - [3.6 Ensemble different models](#part-36)\n",
    "- [4. Contributors](#part-4)"
   ]
  },
  {
   "cell_type": "markdown",
   "metadata": {},
   "source": [
    "## 1. Loading packages and dataset<a id='part-1'>"
   ]
  },
  {
   "cell_type": "code",
   "execution_count": 1,
   "metadata": {},
   "outputs": [],
   "source": [
    "%matplotlib inline\n",
    "%load_ext autoreload\n",
    "%autoreload 2\n",
    "import pandas as pd\n",
    "import numpy as np\n",
    "import pyodbc\n",
    "# from xgboost import XGBClassifier\n",
    "# import xgboost as xgb\n",
    "import lightgbm as lgb\n",
    "from sklearn.preprocessing import LabelEncoder, OneHotEncoder, StandardScaler\n",
    "from sklearn.feature_extraction import DictVectorizer\n",
    "from sklearn.model_selection import train_test_split, StratifiedKFold, GridSearchCV\n",
    "\n",
    "from sklearn.ensemble import RandomForestClassifier\n",
    "from sklearn.metrics import confusion_matrix, classification_report,\\\n",
    "                            precision_recall_curve, average_precision_score,\\\n",
    "                            auc, roc_curve, roc_auc_score\n",
    "from sklearn.neural_network import MLPClassifier\n",
    "from sklearn.linear_model import LogisticRegression\n",
    "from utils import *\n",
    "from sklearn.ensemble import forest\n",
    "from scipy.sparse import hstack\n",
    "# from imblearn.over_sampling import SMOTE\n",
    "import matplotlib.pyplot as plt\n",
    "# import tensorflow as tf\n",
    "\n",
    "def save_obj(obj, name ):\n",
    "    with open('obj/'+ name + '.pkl', 'wb') as f:\n",
    "        pickle.dump(obj, f, pickle.HIGHEST_PROTOCOL)\n",
    "\n",
    "def load_obj(name ):\n",
    "    with open('obj/' + name + '.pkl', 'rb') as f:\n",
    "        return pickle.load(f)\n",
    "\n",
    "pd.options.display.max_columns = 999\n",
    "pd.options.display.max_rows = 999\n",
    "\n",
    "import os\n",
    "os.environ[\"PATH\"] += os.pathsep + 'C:/Users/yabguo/Desktop/Files/packages/graphviz-2.38/release/bin/'"
   ]
  },
  {
   "cell_type": "code",
   "execution_count": 2,
   "metadata": {},
   "outputs": [],
   "source": [
    "snapShotDate = 20180831"
   ]
  },
  {
   "cell_type": "code",
   "execution_count": 3,
   "metadata": {},
   "outputs": [
    {
     "name": "stdout",
     "output_type": "stream",
     "text": [
      "Wall time: 9min 27s\n",
      "(1359702, 73)\n"
     ]
    }
   ],
   "source": [
    "# connecdt to the database and load the table as a pandas dataframe\n",
    "conn = pyodbc.connect(r\"Driver={SQL Server};Server=DWBAR05;Database=MarketingSandbox;Trusted_Connection=yes;\")\n",
    "%time df = pd.read_sql_query(f\"select * From MarketingSandbox.dbo.MemberRetention_MemberProfileTxnBalances{snapShotDate}\", conn)\n",
    "print(df.shape)"
   ]
  },
  {
   "cell_type": "markdown",
   "metadata": {},
   "source": [
    "## 2. Data Preprocessing <a id='part-2'>"
   ]
  },
  {
   "cell_type": "markdown",
   "metadata": {},
   "source": [
    "### 2.1 fill some na fields, performing some filtering <a id='part-21'>"
   ]
  },
  {
   "cell_type": "code",
   "execution_count": 4,
   "metadata": {},
   "outputs": [],
   "source": [
    "# sort the dataframe with Unique_Client_ID and monthNbr\n",
    "df.sort_values(by=['Unique_Client_ID','monthNbr'], inplace=True)"
   ]
  },
  {
   "cell_type": "code",
   "execution_count": 5,
   "metadata": {},
   "outputs": [],
   "source": [
    "# fill na values\n",
    "df.Age_Range = df.Age_Range.fillna('Unknown')\n",
    "df.Tenure_Band_2 = df.Tenure_Band_2.fillna('Unknown')\n",
    "df.Gender = df.Gender.fillna('Unknown')\n",
    "df.Unregistered_Demand_Balance = df.Unregistered_Demand_Balance.fillna(0)\n",
    "df.Unregistered_Term_Balance = df.Unregistered_Term_Balance.fillna(0)\n",
    "df.RRSP_RRIF_Balance = df.RRSP_RRIF_Balance.fillna(0)\n",
    "df.TFSA_Balance = df.TFSA_Balance.fillna(0)\n",
    "df.Mortgage_Balance = df.Mortgage_Balance.fillna(0)\n",
    "df.Visa_Balance = df.Visa_Balance.fillna(0)\n",
    "df.SWM_Balance = df.SWM_Balance.fillna(0)\n",
    "df.Loan_Balance = df.Loan_Balance.fillna(0)\n",
    "df.FUA_Balance = df.FUA_Balance.fillna(0)\n",
    "df.Deposit_Balance = df.Deposit_Balance.fillna(0)\n",
    "df.Age = df.Age.replace('NA','-1').astype('int8')"
   ]
  },
  {
   "cell_type": "code",
   "execution_count": 6,
   "metadata": {},
   "outputs": [],
   "source": [
    "# drop the columns that not required in the dataset\n",
    "df = df.drop(['Number_Of_PAP_Transactions',\\\n",
    "              'PAP_Transaction_Number_Band',\\\n",
    "              'Member_Initiated_Transaction_Number_Level'],\\\n",
    "             axis=1)"
   ]
  },
  {
   "cell_type": "code",
   "execution_count": 7,
   "metadata": {},
   "outputs": [
    {
     "name": "stdout",
     "output_type": "stream",
     "text": [
      "(1063846, 70)\n"
     ]
    }
   ],
   "source": [
    "# keep members in 20-65 age range, having Unregistered_Demand(Savings/Chequings)\n",
    "df = df[(df.Age >= 20) & (df.Age <= 65)]\n",
    "df = df[df.Has_Unregistered_Demand == 1]\n",
    "print(df.shape)"
   ]
  },
  {
   "cell_type": "code",
   "execution_count": 8,
   "metadata": {},
   "outputs": [
    {
     "name": "stdout",
     "output_type": "stream",
     "text": [
      "(1063680, 70)\n"
     ]
    }
   ],
   "source": [
    "# only keep the members with exactly 6 months of records\n",
    "countdf = df.groupby('Unique_Client_ID').count()\n",
    "df = df.loc[df['Unique_Client_ID'].isin(countdf[countdf['monthNbr'] == 6].index)]\n",
    "print(df.shape)"
   ]
  },
  {
   "cell_type": "code",
   "execution_count": 9,
   "metadata": {},
   "outputs": [],
   "source": [
    "# save the table locally to avoid connecting to database everytime\n",
    "df.to_csv(f'raw_train{snapShotDate}.csv', index=False)"
   ]
  },
  {
   "cell_type": "markdown",
   "metadata": {},
   "source": [
    "### 2.2a. data preprocessing for tree based models, create hand-crafted feature to reflect the change <a id='part-22a'>"
   ]
  },
  {
   "cell_type": "markdown",
   "metadata": {},
   "source": [
    "This step is to format the data so that the data can be fit into most tree based models (RF, LGBM, XGBM, CATBOOST, etc). To capture the trend of the changes, some features are manually created. See the code below for more details."
   ]
  },
  {
   "cell_type": "code",
   "execution_count": 3,
   "metadata": {},
   "outputs": [],
   "source": [
    "# load the table from local disk\n",
    "df = pd.read_csv(f'raw_train{snapShotDate}.csv')"
   ]
  },
  {
   "cell_type": "code",
   "execution_count": 9,
   "metadata": {},
   "outputs": [],
   "source": [
    "# the follow features are time dependent\n",
    "cols = [\"Unregistered_Demand_Balance\", \"Unregistered_Term_Balance\", \"RRSP_RRIF_Balance\",\n",
    "        \"TFSA_Balance\", \"Mortgage_Balance\", \"Visa_Balance\", \"SWM_Balance\", \"Loan_Balance\",\n",
    "        \"FUA_Balance\", \"Deposit_Balance\", \"Number_Of_Products\", \"Number_Of_Services\", \"Number_Of_FA\",\n",
    "        \"AvgPAPAmt\", \"CountPAPTrans\", \"AvgBPAmt\", \"CountBPTrans\", \"AvgEDAmt\", \"CountEDTrans\",\n",
    "        \"AvgMTAmt\", \"CountMTTrans\", \"Number_Of_Member_Initiated_Transactions\", \"AvgPAAmt\",\n",
    "        \"CountPATrans\", \"AvgMTDebitAmt\", \"CountMTDebitTrans\", \"AvgMTCreditAmt\", \"CountMTCreditTrans\",\n",
    "        \"CreditDebitAmtRatio\", \"CreditDebitCountsRatio\",]"
   ]
  },
  {
   "cell_type": "code",
   "execution_count": 10,
   "metadata": {
    "scrolled": true
   },
   "outputs": [],
   "source": [
    "# perform normalization on balances and Tranasactions\n",
    "# (to capture the difference/change in product balances and Transactions Amts/counts\n",
    "# in a month with respect to other months at member level)\n",
    "# instead of considering the difference between current month and all six months,\n",
    "# we look at the difference between current month and past five months\n",
    "df_currentMonth = df[df.monthNbr==6].copy()\n",
    "df_currentMonth.index = df_currentMonth.Unique_Client_ID\n",
    "\n",
    "for col in cols:\n",
    "    col_avg = df[df.monthNbr.isin([1,2,3,4,5])].groupby('Unique_Client_ID')[col].mean()\n",
    "    col_std = df[df.monthNbr.isin([1,2,3,4,5])].groupby('Unique_Client_ID')[col].std()\n",
    "    col_max = df[df.monthNbr.isin([1,2,3,4,5])].groupby('Unique_Client_ID')[col].max()\n",
    "    col_min = df[df.monthNbr.isin([1,2,3,4,5])].groupby('Unique_Client_ID')[col].min()\n",
    "    df_currentMonth[f\"{col}_max\"] = col_max\n",
    "    df_currentMonth[f\"{col}_min\"] = col_min\n",
    "    df_currentMonth[f\"{col}_avg\"] = col_avg\n",
    "    df_currentMonth[f\"{col}_normed\"] = (df_currentMonth[col] - col_avg) / col_std\n",
    "    # 0 divided by 0 is na here, we filled na with 0 in this case\n",
    "    df_currentMonth[f\"{col}_normed\"] = df_currentMonth[f\"{col}_normed\"].fillna(0)\n",
    "    \n",
    "for i in range(1,6,1):\n",
    "    col_tmp_i = df[df.monthNbr==i][['Unique_Client_ID','Number_Of_Member_Initiated_Transactions']]\n",
    "    col_tmp_i.set_index('Unique_Client_ID',inplace=True)\n",
    "    df_currentMonth[f\"Number_Of_Member_Initiated_Transactions_{i}\"] = col_tmp_i.Number_Of_Member_Initiated_Transactions\n",
    "    for j in range(i+1,7,1):\n",
    "        col_tmp_j = df[df.monthNbr==j][['Unique_Client_ID','Number_Of_Member_Initiated_Transactions']]\n",
    "        col_tmp_j.set_index('Unique_Client_ID',inplace=True)\n",
    "        df_currentMonth[f\"Number_MITs_{i}To{j}\"] = col_tmp_j.Number_Of_Member_Initiated_Transactions \\\n",
    "                                                    - col_tmp_i.Number_Of_Member_Initiated_Transactions\n",
    "        df_currentMonth[f\"Number_MITs_{i}To{j}_div\"] = col_tmp_j.Number_Of_Member_Initiated_Transactions \\\n",
    "                                                    / col_tmp_i.Number_Of_Member_Initiated_Transactions\n",
    "#         print(df_currentMonth[f\"Number_MITs_{i}To{j}\"].isna().sum()/df_currentMonth[f\"Number_MITs_{i}To{j}\"].count())\n",
    "    \n",
    "df_currentMonth['CountLoanPayoffTrans'] = df.groupby(\"Unique_Client_ID\").CountLoanPayoffTrans.sum()\n",
    "\n",
    "# add three more time dependent features\n",
    "imp_cols = ['FUA_Balance', 'Unregistered_Demand_Balance', 'Deposit_Balance']\n",
    "for col in imp_cols:\n",
    "    for i in range(1,6,1):\n",
    "        col_tmp_i = df[df.monthNbr==i][['Unique_Client_ID', col]]\n",
    "        col_tmp_i.set_index('Unique_Client_ID',inplace=True)\n",
    "        df_currentMonth[f\"{col}_{i}\"] = col_tmp_i[col]\n",
    "        for j in range(i+1,7,1):\n",
    "            col_tmp_j = df[df.monthNbr==j][['Unique_Client_ID', col]]\n",
    "            col_tmp_j.set_index('Unique_Client_ID',inplace=True)\n",
    "            df_currentMonth[f\"{col}_{i}To{j}\"] = col_tmp_j[col] - col_tmp_i[col]\n",
    "            df_currentMonth[f\"{col}_{i}To{j}_div\"] = col_tmp_j[col] / col_tmp_i[col]\n",
    "\n",
    "df = df_currentMonth\n",
    "df = df.fillna(0)"
   ]
  },
  {
   "cell_type": "code",
   "execution_count": 11,
   "metadata": {},
   "outputs": [],
   "source": [
    "# only keep the data of active members\n",
    "df = df[df.Member_Activity_Level == 'Active']\n",
    "df = df.drop(['Primary_Branch_Type', 'Age_Range', 'As_Of_Date_Key', 'AttrMnth',\\\n",
    "              'Tenure_Band_2', 'Member_Activity_Level', 'TFSA_Band', 'SWM_Band',\\\n",
    "              'Loan_Band', 'Unregistered_Demand_Band', 'Approved_LOC_Band',\\\n",
    "              'Deposit_Band', 'Mortgage_Band', 'RRSP_RRIF_Band', 'FUA_Band',\\\n",
    "              'Unregistered_Term_Band', 'Visa_Band', 'monthNbr'], axis = 1)\n",
    "# put Unique_Client_ID and Gone onto the first two columns\n",
    "df = df[['Unique_Client_ID', 'Gone'] + list(set(df.columns.tolist())-set(['Unique_Client_ID', 'Gone']))]"
   ]
  },
  {
   "cell_type": "code",
   "execution_count": 12,
   "metadata": {},
   "outputs": [],
   "source": [
    "# Has_Joint_Account is a binary feature, 'Y' to 1, 'N' to 0\n",
    "df.loc[df.Has_Joint_Account=='Y','Has_Joint_Account'] = 1\n",
    "df.loc[df.Has_Joint_Account=='N','Has_Joint_Account'] = 0\n",
    "df.Has_Joint_Account = df.Has_Joint_Account.astype('int8')"
   ]
  },
  {
   "cell_type": "code",
   "execution_count": 13,
   "metadata": {},
   "outputs": [],
   "source": [
    "# Gender has three possible values, 'FEMALE' to 1, 'MALE' to 0, 'Unknown' to NaN\n",
    "df.loc[df.Gender=='FEMALE', 'Gender'] = 1\n",
    "df.loc[df.Gender=='MALE', 'Gender'] = 0\n",
    "df.loc[df.Gender=='Unknown', 'Gender'] = np.nan"
   ]
  },
  {
   "cell_type": "code",
   "execution_count": 14,
   "metadata": {},
   "outputs": [],
   "source": [
    "# Gone is the binary class label we want to predict, 'Y' to 1, 'N' to 0\n",
    "df.loc[df.Gone=='Y','Gone'] = 1\n",
    "df.loc[df.Gone=='N','Gone'] = 0\n",
    "df.Gone = df.Gone.astype('int8')"
   ]
  },
  {
   "cell_type": "code",
   "execution_count": 15,
   "metadata": {},
   "outputs": [
    {
     "name": "stdout",
     "output_type": "stream",
     "text": [
      "(23047, 312) (154177, 312)\n"
     ]
    }
   ],
   "source": [
    "print(df[df.Gone==1].shape, df[df.Gone==0].shape)"
   ]
  },
  {
   "cell_type": "code",
   "execution_count": 16,
   "metadata": {},
   "outputs": [],
   "source": [
    "# Fill the NA with -1 (there are small amount NA in Sex)\n",
    "# For this dataset, we do NOT have many missing values.\n",
    "# So simply filling NA with -1 should be fine.\n",
    "df = df.fillna(-1)"
   ]
  },
  {
   "cell_type": "code",
   "execution_count": 17,
   "metadata": {},
   "outputs": [],
   "source": [
    "# replace the inf with na first\n",
    "df = df.replace(np.inf, np.nan)\n",
    "# replace na with the maximum of that column plus 1\n",
    "tmp = df.isnull().any(axis=0)\n",
    "for i in range(df.shape[1]):\n",
    "    if tmp[i]:\n",
    "        df[tmp.index[i]] = df[tmp.index[i]].fillna(df[tmp.index[i]].max()+1)"
   ]
  },
  {
   "cell_type": "code",
   "execution_count": 18,
   "metadata": {},
   "outputs": [],
   "source": [
    "# replace the -inf with na first\n",
    "df = df.replace(-np.inf, np.nan)\n",
    "# replace na with the minimum of that column minus 1\n",
    "tmp = df.isnull().any(axis=0)\n",
    "for i in range(df.shape[1]):\n",
    "    if tmp[i]:\n",
    "        df[tmp.index[i]] = df[tmp.index[i]].fillna(df[tmp.index[i]].min()-1)"
   ]
  },
  {
   "cell_type": "code",
   "execution_count": 19,
   "metadata": {},
   "outputs": [],
   "source": [
    "df.to_pickle(f'{snapShotDate}_train.pickle')"
   ]
  },
  {
   "cell_type": "markdown",
   "metadata": {},
   "source": [
    "### 2.2b. data preprocessing for neural nets, flatten the table <a id='part-22b'>"
   ]
  },
  {
   "cell_type": "markdown",
   "metadata": {},
   "source": [
    "This step is to format the data so that the data can be fit into neural network model. Two key points are normalization and flattening the table. I didn't try sequence model like recurrent neural network model which might be a promising one."
   ]
  },
  {
   "cell_type": "code",
   "execution_count": null,
   "metadata": {},
   "outputs": [],
   "source": [
    "# load the table from local disk\n",
    "df = pd.read_csv('raw20180706.csv')"
   ]
  },
  {
   "cell_type": "code",
   "execution_count": 4,
   "metadata": {},
   "outputs": [
    {
     "name": "stdout",
     "output_type": "stream",
     "text": [
      "(1028508, 70)\n"
     ]
    }
   ],
   "source": [
    "# only keep the data of active members\n",
    "df = df[df.Member_Activity_Level == 'Active']\n",
    "# only keep the members with exactly 6 months of records\n",
    "countdf = df.groupby('Unique_Client_ID').count()\n",
    "df = df.loc[df['Unique_Client_ID'].isin(countdf[countdf['monthNbr'] == 6].index)]\n",
    "print(df.shape)"
   ]
  },
  {
   "cell_type": "code",
   "execution_count": 5,
   "metadata": {},
   "outputs": [],
   "source": [
    "# the follow features are time dependent\n",
    "cols_time = [\"Unregistered_Demand_Balance\", \"Unregistered_Term_Balance\", \"RRSP_RRIF_Balance\",\n",
    "             \"TFSA_Balance\", \"Mortgage_Balance\", \"Visa_Balance\", \"SWM_Balance\", \"Loan_Balance\",\n",
    "             \"FUA_Balance\", \"Deposit_Balance\", \"Number_Of_Products\", \"Number_Of_Services\", \"Number_Of_FA\",\n",
    "             \"AvgPAPAmt\", \"CountPAPTrans\", \"AvgBPAmt\", \"CountBPTrans\", \"AvgEDAmt\", \"CountEDTrans\",\n",
    "             \"AvgMTAmt\", \"CountMTTrans\", \"Number_Of_Member_Initiated_Transactions\", \"AvgPAAmt\",\n",
    "             \"CountPATrans\", \"AvgMTDebitAmt\", \"CountMTDebitTrans\", \"AvgMTCreditAmt\", \"CountMTCreditTrans\",\n",
    "             \"CreditDebitAmtRatio\", \"CreditDebitCountsRatio\", \"CountLoanPayoffTrans\", \"AvgLoanPayoffAmt\",]"
   ]
  },
  {
   "cell_type": "code",
   "execution_count": 6,
   "metadata": {},
   "outputs": [],
   "source": [
    "# the cols_info stores the time independent features\n",
    "cols_info = ['Unique_Client_ID','Gone'] + \\\n",
    "             list(set(df.columns) - \\\n",
    "                  set(cols_time+['Unique_Client_ID', 'Gone', 'Tenure_Band_2', 'Unregistered_Term_Band',\\\n",
    "                                 'Approved_LOC_Band', 'Deposit_Band', 'TFSA_Band', 'Unregistered_Demand_Band',\\\n",
    "                                 'RRSP_RRIF_Band', 'Loan_Band', 'AttrMnth', 'FUA_Band', 'Mortgage_Band',\\\n",
    "                                 'Visa_Band', 'SWM_Band', 'Member_Activity_Level', 'As_Of_Date_Key',\\\n",
    "                                 'Primary_Branch_Type', 'monthNbr', 'Age_Range']))"
   ]
  },
  {
   "cell_type": "code",
   "execution_count": 8,
   "metadata": {},
   "outputs": [
    {
     "data": {
      "text/html": [
       "<div>\n",
       "<style scoped>\n",
       "    .dataframe tbody tr th:only-of-type {\n",
       "        vertical-align: middle;\n",
       "    }\n",
       "\n",
       "    .dataframe tbody tr th {\n",
       "        vertical-align: top;\n",
       "    }\n",
       "\n",
       "    .dataframe thead th {\n",
       "        text-align: right;\n",
       "    }\n",
       "</style>\n",
       "<table border=\"1\" class=\"dataframe\">\n",
       "  <thead>\n",
       "    <tr style=\"text-align: right;\">\n",
       "      <th></th>\n",
       "      <th>Unique_Client_ID</th>\n",
       "      <th>Gone</th>\n",
       "      <th>Has_SWM</th>\n",
       "      <th>Has_RRSP_RRIF</th>\n",
       "      <th>Has_Chequing</th>\n",
       "      <th>Has_Pre_Authorized_Income</th>\n",
       "      <th>Has_TFSA</th>\n",
       "      <th>Has_Unregistered_Term</th>\n",
       "      <th>Has_Joint_Account</th>\n",
       "      <th>Has_Mortgage</th>\n",
       "      <th>max_TermToMaturity</th>\n",
       "      <th>Gender</th>\n",
       "      <th>Has_Loan</th>\n",
       "      <th>min_TermToMaturity</th>\n",
       "      <th>Has_Visa</th>\n",
       "      <th>mortgagesLoans_Counts</th>\n",
       "      <th>Has_Unregistered_Demand</th>\n",
       "      <th>Has_ApprovedLOC</th>\n",
       "      <th>Age</th>\n",
       "      <th>Tenure</th>\n",
       "    </tr>\n",
       "  </thead>\n",
       "  <tbody>\n",
       "    <tr>\n",
       "      <th>0</th>\n",
       "      <td>2</td>\n",
       "      <td>N</td>\n",
       "      <td>0</td>\n",
       "      <td>0</td>\n",
       "      <td>1</td>\n",
       "      <td>0</td>\n",
       "      <td>0</td>\n",
       "      <td>0</td>\n",
       "      <td>Y</td>\n",
       "      <td>0</td>\n",
       "      <td>0</td>\n",
       "      <td>FEMALE</td>\n",
       "      <td>0</td>\n",
       "      <td>0</td>\n",
       "      <td>0</td>\n",
       "      <td>0</td>\n",
       "      <td>1</td>\n",
       "      <td>0</td>\n",
       "      <td>48</td>\n",
       "      <td>12.0</td>\n",
       "    </tr>\n",
       "    <tr>\n",
       "      <th>1</th>\n",
       "      <td>3</td>\n",
       "      <td>Y</td>\n",
       "      <td>0</td>\n",
       "      <td>0</td>\n",
       "      <td>1</td>\n",
       "      <td>0</td>\n",
       "      <td>0</td>\n",
       "      <td>1</td>\n",
       "      <td>Y</td>\n",
       "      <td>0</td>\n",
       "      <td>0</td>\n",
       "      <td>MALE</td>\n",
       "      <td>0</td>\n",
       "      <td>0</td>\n",
       "      <td>1</td>\n",
       "      <td>0</td>\n",
       "      <td>1</td>\n",
       "      <td>1</td>\n",
       "      <td>51</td>\n",
       "      <td>13.0</td>\n",
       "    </tr>\n",
       "    <tr>\n",
       "      <th>2</th>\n",
       "      <td>5</td>\n",
       "      <td>N</td>\n",
       "      <td>0</td>\n",
       "      <td>0</td>\n",
       "      <td>1</td>\n",
       "      <td>0</td>\n",
       "      <td>0</td>\n",
       "      <td>0</td>\n",
       "      <td>Y</td>\n",
       "      <td>0</td>\n",
       "      <td>0</td>\n",
       "      <td>MALE</td>\n",
       "      <td>0</td>\n",
       "      <td>0</td>\n",
       "      <td>0</td>\n",
       "      <td>0</td>\n",
       "      <td>1</td>\n",
       "      <td>0</td>\n",
       "      <td>34</td>\n",
       "      <td>2.0</td>\n",
       "    </tr>\n",
       "    <tr>\n",
       "      <th>3</th>\n",
       "      <td>7</td>\n",
       "      <td>N</td>\n",
       "      <td>0</td>\n",
       "      <td>0</td>\n",
       "      <td>1</td>\n",
       "      <td>1</td>\n",
       "      <td>0</td>\n",
       "      <td>0</td>\n",
       "      <td>Y</td>\n",
       "      <td>1</td>\n",
       "      <td>0</td>\n",
       "      <td>MALE</td>\n",
       "      <td>0</td>\n",
       "      <td>0</td>\n",
       "      <td>1</td>\n",
       "      <td>0</td>\n",
       "      <td>1</td>\n",
       "      <td>0</td>\n",
       "      <td>52</td>\n",
       "      <td>13.0</td>\n",
       "    </tr>\n",
       "    <tr>\n",
       "      <th>4</th>\n",
       "      <td>10</td>\n",
       "      <td>N</td>\n",
       "      <td>0</td>\n",
       "      <td>0</td>\n",
       "      <td>1</td>\n",
       "      <td>1</td>\n",
       "      <td>0</td>\n",
       "      <td>0</td>\n",
       "      <td>N</td>\n",
       "      <td>0</td>\n",
       "      <td>17</td>\n",
       "      <td>MALE</td>\n",
       "      <td>1</td>\n",
       "      <td>17</td>\n",
       "      <td>1</td>\n",
       "      <td>1</td>\n",
       "      <td>1</td>\n",
       "      <td>0</td>\n",
       "      <td>46</td>\n",
       "      <td>3.0</td>\n",
       "    </tr>\n",
       "  </tbody>\n",
       "</table>\n",
       "</div>"
      ],
      "text/plain": [
       "   Unique_Client_ID Gone  Has_SWM  Has_RRSP_RRIF  Has_Chequing  \\\n",
       "0                 2    N        0              0             1   \n",
       "1                 3    Y        0              0             1   \n",
       "2                 5    N        0              0             1   \n",
       "3                 7    N        0              0             1   \n",
       "4                10    N        0              0             1   \n",
       "\n",
       "   Has_Pre_Authorized_Income  Has_TFSA  Has_Unregistered_Term  \\\n",
       "0                          0         0                      0   \n",
       "1                          0         0                      1   \n",
       "2                          0         0                      0   \n",
       "3                          1         0                      0   \n",
       "4                          1         0                      0   \n",
       "\n",
       "  Has_Joint_Account  Has_Mortgage  max_TermToMaturity  Gender  Has_Loan  \\\n",
       "0                 Y             0                   0  FEMALE         0   \n",
       "1                 Y             0                   0    MALE         0   \n",
       "2                 Y             0                   0    MALE         0   \n",
       "3                 Y             1                   0    MALE         0   \n",
       "4                 N             0                  17    MALE         1   \n",
       "\n",
       "   min_TermToMaturity  Has_Visa  mortgagesLoans_Counts  \\\n",
       "0                   0         0                      0   \n",
       "1                   0         1                      0   \n",
       "2                   0         0                      0   \n",
       "3                   0         1                      0   \n",
       "4                  17         1                      1   \n",
       "\n",
       "   Has_Unregistered_Demand  Has_ApprovedLOC  Age  Tenure  \n",
       "0                        1                0   48    12.0  \n",
       "1                        1                1   51    13.0  \n",
       "2                        1                0   34     2.0  \n",
       "3                        1                0   52    13.0  \n",
       "4                        1                0   46     3.0  "
      ]
     },
     "execution_count": 8,
     "metadata": {},
     "output_type": "execute_result"
    }
   ],
   "source": [
    "flattened_df = df[df.monthNbr==6][cols_info]\n",
    "flattened_df.reset_index(inplace=True)\n",
    "flattened_df = flattened_df.drop('index', axis=1)\n",
    "flattened_df.head(5)"
   ]
  },
  {
   "cell_type": "code",
   "execution_count": 10,
   "metadata": {},
   "outputs": [],
   "source": [
    "# standardize the numeric features\n",
    "myNormalize(flattened_df, ['max_TermToMaturity','min_TermToMaturity','mortgagesLoans_Counts','Age','Tenure'])"
   ]
  },
  {
   "cell_type": "code",
   "execution_count": 11,
   "metadata": {},
   "outputs": [],
   "source": [
    "for num_month in range(1,7,1):\n",
    "    df_temp = df[df.monthNbr == num_month][cols_time]\n",
    "    df_temp = df[df.monthNbr == num_month][cols_time]\n",
    "    df_temp.reset_index(inplace=True)\n",
    "    df_temp = df_temp.drop('index', axis=1)\n",
    "    df_temp.columns = ['{}_{}'.format(col, num_month) for col in df_temp.columns]\n",
    "    # standardize the numeric features\n",
    "    myNormalize(df_temp, df_temp.columns)\n",
    "    flattened_df = pd.concat([flattened_df, df_temp], axis=1)"
   ]
  },
  {
   "cell_type": "code",
   "execution_count": 12,
   "metadata": {},
   "outputs": [],
   "source": [
    "df = flattened_df"
   ]
  },
  {
   "cell_type": "code",
   "execution_count": 13,
   "metadata": {},
   "outputs": [],
   "source": [
    "# Has_Joint_Account is a binary feature, 'Y' to 1, 'N' to 0\n",
    "df.loc[df.Has_Joint_Account=='Y','Has_Joint_Account'] = 1\n",
    "df.loc[df.Has_Joint_Account=='N','Has_Joint_Account'] = 0\n",
    "df.Has_Joint_Account = df.Has_Joint_Account.astype('int8')"
   ]
  },
  {
   "cell_type": "code",
   "execution_count": 14,
   "metadata": {},
   "outputs": [],
   "source": [
    "# Gender has three possible values, 'FEMALE' to 1, 'MALE' to 0, 'Unknown' to NaN\n",
    "df.loc[df.Gender=='FEMALE', 'Gender'] = 1\n",
    "df.loc[df.Gender=='MALE', 'Gender'] = 0\n",
    "df.loc[df.Gender=='Unknown', 'Gender'] = np.nan"
   ]
  },
  {
   "cell_type": "code",
   "execution_count": 15,
   "metadata": {},
   "outputs": [],
   "source": [
    "# Gone is the binary class label we want to predict, 'Y' to 1, 'N' to 0\n",
    "df.loc[df.Gone=='Y','Gone'] = 1\n",
    "df.loc[df.Gone=='N','Gone'] = 0\n",
    "df.Gone = df.Gone.astype('int8')"
   ]
  },
  {
   "cell_type": "code",
   "execution_count": 16,
   "metadata": {},
   "outputs": [
    {
     "name": "stdout",
     "output_type": "stream",
     "text": [
      "(171418, 212)\n"
     ]
    },
    {
     "data": {
      "text/html": [
       "<div>\n",
       "<style scoped>\n",
       "    .dataframe tbody tr th:only-of-type {\n",
       "        vertical-align: middle;\n",
       "    }\n",
       "\n",
       "    .dataframe tbody tr th {\n",
       "        vertical-align: top;\n",
       "    }\n",
       "\n",
       "    .dataframe thead th {\n",
       "        text-align: right;\n",
       "    }\n",
       "</style>\n",
       "<table border=\"1\" class=\"dataframe\">\n",
       "  <thead>\n",
       "    <tr style=\"text-align: right;\">\n",
       "      <th></th>\n",
       "      <th>Unique_Client_ID</th>\n",
       "      <th>Gone</th>\n",
       "      <th>Has_SWM</th>\n",
       "      <th>Has_RRSP_RRIF</th>\n",
       "      <th>Has_Chequing</th>\n",
       "      <th>Has_Pre_Authorized_Income</th>\n",
       "      <th>Has_TFSA</th>\n",
       "      <th>Has_Unregistered_Term</th>\n",
       "      <th>Has_Joint_Account</th>\n",
       "      <th>Has_Mortgage</th>\n",
       "      <th>max_TermToMaturity</th>\n",
       "      <th>Gender</th>\n",
       "      <th>Has_Loan</th>\n",
       "      <th>min_TermToMaturity</th>\n",
       "      <th>Has_Visa</th>\n",
       "      <th>mortgagesLoans_Counts</th>\n",
       "      <th>Has_Unregistered_Demand</th>\n",
       "      <th>Has_ApprovedLOC</th>\n",
       "      <th>Age</th>\n",
       "      <th>Tenure</th>\n",
       "      <th>Unregistered_Demand_Balance_1</th>\n",
       "      <th>Unregistered_Term_Balance_1</th>\n",
       "      <th>RRSP_RRIF_Balance_1</th>\n",
       "      <th>TFSA_Balance_1</th>\n",
       "      <th>Mortgage_Balance_1</th>\n",
       "      <th>Visa_Balance_1</th>\n",
       "      <th>SWM_Balance_1</th>\n",
       "      <th>Loan_Balance_1</th>\n",
       "      <th>FUA_Balance_1</th>\n",
       "      <th>Deposit_Balance_1</th>\n",
       "      <th>Number_Of_Products_1</th>\n",
       "      <th>Number_Of_Services_1</th>\n",
       "      <th>Number_Of_FA_1</th>\n",
       "      <th>AvgPAPAmt_1</th>\n",
       "      <th>CountPAPTrans_1</th>\n",
       "      <th>AvgBPAmt_1</th>\n",
       "      <th>CountBPTrans_1</th>\n",
       "      <th>AvgEDAmt_1</th>\n",
       "      <th>CountEDTrans_1</th>\n",
       "      <th>AvgMTAmt_1</th>\n",
       "      <th>CountMTTrans_1</th>\n",
       "      <th>Number_Of_Member_Initiated_Transactions_1</th>\n",
       "      <th>AvgPAAmt_1</th>\n",
       "      <th>CountPATrans_1</th>\n",
       "      <th>AvgMTDebitAmt_1</th>\n",
       "      <th>CountMTDebitTrans_1</th>\n",
       "      <th>AvgMTCreditAmt_1</th>\n",
       "      <th>CountMTCreditTrans_1</th>\n",
       "      <th>CreditDebitAmtRatio_1</th>\n",
       "      <th>CreditDebitCountsRatio_1</th>\n",
       "      <th>CountLoanPayoffTrans_1</th>\n",
       "      <th>AvgLoanPayoffAmt_1</th>\n",
       "      <th>Unregistered_Demand_Balance_2</th>\n",
       "      <th>Unregistered_Term_Balance_2</th>\n",
       "      <th>RRSP_RRIF_Balance_2</th>\n",
       "      <th>TFSA_Balance_2</th>\n",
       "      <th>Mortgage_Balance_2</th>\n",
       "      <th>Visa_Balance_2</th>\n",
       "      <th>SWM_Balance_2</th>\n",
       "      <th>Loan_Balance_2</th>\n",
       "      <th>FUA_Balance_2</th>\n",
       "      <th>Deposit_Balance_2</th>\n",
       "      <th>Number_Of_Products_2</th>\n",
       "      <th>Number_Of_Services_2</th>\n",
       "      <th>Number_Of_FA_2</th>\n",
       "      <th>AvgPAPAmt_2</th>\n",
       "      <th>CountPAPTrans_2</th>\n",
       "      <th>AvgBPAmt_2</th>\n",
       "      <th>CountBPTrans_2</th>\n",
       "      <th>AvgEDAmt_2</th>\n",
       "      <th>CountEDTrans_2</th>\n",
       "      <th>AvgMTAmt_2</th>\n",
       "      <th>CountMTTrans_2</th>\n",
       "      <th>Number_Of_Member_Initiated_Transactions_2</th>\n",
       "      <th>AvgPAAmt_2</th>\n",
       "      <th>CountPATrans_2</th>\n",
       "      <th>AvgMTDebitAmt_2</th>\n",
       "      <th>CountMTDebitTrans_2</th>\n",
       "      <th>AvgMTCreditAmt_2</th>\n",
       "      <th>CountMTCreditTrans_2</th>\n",
       "      <th>CreditDebitAmtRatio_2</th>\n",
       "      <th>CreditDebitCountsRatio_2</th>\n",
       "      <th>CountLoanPayoffTrans_2</th>\n",
       "      <th>AvgLoanPayoffAmt_2</th>\n",
       "      <th>Unregistered_Demand_Balance_3</th>\n",
       "      <th>Unregistered_Term_Balance_3</th>\n",
       "      <th>RRSP_RRIF_Balance_3</th>\n",
       "      <th>TFSA_Balance_3</th>\n",
       "      <th>Mortgage_Balance_3</th>\n",
       "      <th>Visa_Balance_3</th>\n",
       "      <th>SWM_Balance_3</th>\n",
       "      <th>Loan_Balance_3</th>\n",
       "      <th>FUA_Balance_3</th>\n",
       "      <th>Deposit_Balance_3</th>\n",
       "      <th>Number_Of_Products_3</th>\n",
       "      <th>Number_Of_Services_3</th>\n",
       "      <th>Number_Of_FA_3</th>\n",
       "      <th>AvgPAPAmt_3</th>\n",
       "      <th>CountPAPTrans_3</th>\n",
       "      <th>AvgBPAmt_3</th>\n",
       "      <th>CountBPTrans_3</th>\n",
       "      <th>AvgEDAmt_3</th>\n",
       "      <th>CountEDTrans_3</th>\n",
       "      <th>AvgMTAmt_3</th>\n",
       "      <th>CountMTTrans_3</th>\n",
       "      <th>Number_Of_Member_Initiated_Transactions_3</th>\n",
       "      <th>AvgPAAmt_3</th>\n",
       "      <th>CountPATrans_3</th>\n",
       "      <th>AvgMTDebitAmt_3</th>\n",
       "      <th>CountMTDebitTrans_3</th>\n",
       "      <th>AvgMTCreditAmt_3</th>\n",
       "      <th>CountMTCreditTrans_3</th>\n",
       "      <th>CreditDebitAmtRatio_3</th>\n",
       "      <th>CreditDebitCountsRatio_3</th>\n",
       "      <th>CountLoanPayoffTrans_3</th>\n",
       "      <th>AvgLoanPayoffAmt_3</th>\n",
       "      <th>Unregistered_Demand_Balance_4</th>\n",
       "      <th>Unregistered_Term_Balance_4</th>\n",
       "      <th>RRSP_RRIF_Balance_4</th>\n",
       "      <th>TFSA_Balance_4</th>\n",
       "      <th>Mortgage_Balance_4</th>\n",
       "      <th>Visa_Balance_4</th>\n",
       "      <th>SWM_Balance_4</th>\n",
       "      <th>Loan_Balance_4</th>\n",
       "      <th>FUA_Balance_4</th>\n",
       "      <th>Deposit_Balance_4</th>\n",
       "      <th>Number_Of_Products_4</th>\n",
       "      <th>Number_Of_Services_4</th>\n",
       "      <th>Number_Of_FA_4</th>\n",
       "      <th>AvgPAPAmt_4</th>\n",
       "      <th>CountPAPTrans_4</th>\n",
       "      <th>AvgBPAmt_4</th>\n",
       "      <th>CountBPTrans_4</th>\n",
       "      <th>AvgEDAmt_4</th>\n",
       "      <th>CountEDTrans_4</th>\n",
       "      <th>AvgMTAmt_4</th>\n",
       "      <th>CountMTTrans_4</th>\n",
       "      <th>Number_Of_Member_Initiated_Transactions_4</th>\n",
       "      <th>AvgPAAmt_4</th>\n",
       "      <th>CountPATrans_4</th>\n",
       "      <th>AvgMTDebitAmt_4</th>\n",
       "      <th>CountMTDebitTrans_4</th>\n",
       "      <th>AvgMTCreditAmt_4</th>\n",
       "      <th>CountMTCreditTrans_4</th>\n",
       "      <th>CreditDebitAmtRatio_4</th>\n",
       "      <th>CreditDebitCountsRatio_4</th>\n",
       "      <th>CountLoanPayoffTrans_4</th>\n",
       "      <th>AvgLoanPayoffAmt_4</th>\n",
       "      <th>Unregistered_Demand_Balance_5</th>\n",
       "      <th>Unregistered_Term_Balance_5</th>\n",
       "      <th>RRSP_RRIF_Balance_5</th>\n",
       "      <th>TFSA_Balance_5</th>\n",
       "      <th>Mortgage_Balance_5</th>\n",
       "      <th>Visa_Balance_5</th>\n",
       "      <th>SWM_Balance_5</th>\n",
       "      <th>Loan_Balance_5</th>\n",
       "      <th>FUA_Balance_5</th>\n",
       "      <th>Deposit_Balance_5</th>\n",
       "      <th>Number_Of_Products_5</th>\n",
       "      <th>Number_Of_Services_5</th>\n",
       "      <th>Number_Of_FA_5</th>\n",
       "      <th>AvgPAPAmt_5</th>\n",
       "      <th>CountPAPTrans_5</th>\n",
       "      <th>AvgBPAmt_5</th>\n",
       "      <th>CountBPTrans_5</th>\n",
       "      <th>AvgEDAmt_5</th>\n",
       "      <th>CountEDTrans_5</th>\n",
       "      <th>AvgMTAmt_5</th>\n",
       "      <th>CountMTTrans_5</th>\n",
       "      <th>Number_Of_Member_Initiated_Transactions_5</th>\n",
       "      <th>AvgPAAmt_5</th>\n",
       "      <th>CountPATrans_5</th>\n",
       "      <th>AvgMTDebitAmt_5</th>\n",
       "      <th>CountMTDebitTrans_5</th>\n",
       "      <th>AvgMTCreditAmt_5</th>\n",
       "      <th>CountMTCreditTrans_5</th>\n",
       "      <th>CreditDebitAmtRatio_5</th>\n",
       "      <th>CreditDebitCountsRatio_5</th>\n",
       "      <th>CountLoanPayoffTrans_5</th>\n",
       "      <th>AvgLoanPayoffAmt_5</th>\n",
       "      <th>Unregistered_Demand_Balance_6</th>\n",
       "      <th>Unregistered_Term_Balance_6</th>\n",
       "      <th>RRSP_RRIF_Balance_6</th>\n",
       "      <th>TFSA_Balance_6</th>\n",
       "      <th>Mortgage_Balance_6</th>\n",
       "      <th>Visa_Balance_6</th>\n",
       "      <th>SWM_Balance_6</th>\n",
       "      <th>Loan_Balance_6</th>\n",
       "      <th>FUA_Balance_6</th>\n",
       "      <th>Deposit_Balance_6</th>\n",
       "      <th>Number_Of_Products_6</th>\n",
       "      <th>Number_Of_Services_6</th>\n",
       "      <th>Number_Of_FA_6</th>\n",
       "      <th>AvgPAPAmt_6</th>\n",
       "      <th>CountPAPTrans_6</th>\n",
       "      <th>AvgBPAmt_6</th>\n",
       "      <th>CountBPTrans_6</th>\n",
       "      <th>AvgEDAmt_6</th>\n",
       "      <th>CountEDTrans_6</th>\n",
       "      <th>AvgMTAmt_6</th>\n",
       "      <th>CountMTTrans_6</th>\n",
       "      <th>Number_Of_Member_Initiated_Transactions_6</th>\n",
       "      <th>AvgPAAmt_6</th>\n",
       "      <th>CountPATrans_6</th>\n",
       "      <th>AvgMTDebitAmt_6</th>\n",
       "      <th>CountMTDebitTrans_6</th>\n",
       "      <th>AvgMTCreditAmt_6</th>\n",
       "      <th>CountMTCreditTrans_6</th>\n",
       "      <th>CreditDebitAmtRatio_6</th>\n",
       "      <th>CreditDebitCountsRatio_6</th>\n",
       "      <th>CountLoanPayoffTrans_6</th>\n",
       "      <th>AvgLoanPayoffAmt_6</th>\n",
       "    </tr>\n",
       "  </thead>\n",
       "  <tbody>\n",
       "    <tr>\n",
       "      <th>0</th>\n",
       "      <td>2</td>\n",
       "      <td>0</td>\n",
       "      <td>0</td>\n",
       "      <td>0</td>\n",
       "      <td>1</td>\n",
       "      <td>0</td>\n",
       "      <td>0</td>\n",
       "      <td>0</td>\n",
       "      <td>1</td>\n",
       "      <td>0</td>\n",
       "      <td>-0.324038</td>\n",
       "      <td>1</td>\n",
       "      <td>0</td>\n",
       "      <td>-0.316643</td>\n",
       "      <td>0</td>\n",
       "      <td>-0.328310</td>\n",
       "      <td>1</td>\n",
       "      <td>0</td>\n",
       "      <td>0.303114</td>\n",
       "      <td>-0.118781</td>\n",
       "      <td>-0.272982</td>\n",
       "      <td>-0.100942</td>\n",
       "      <td>-0.200467</td>\n",
       "      <td>-0.23861</td>\n",
       "      <td>-0.292053</td>\n",
       "      <td>-0.345462</td>\n",
       "      <td>-0.19632</td>\n",
       "      <td>-0.130486</td>\n",
       "      <td>-0.398485</td>\n",
       "      <td>-0.239082</td>\n",
       "      <td>-1.234815</td>\n",
       "      <td>-1.505169</td>\n",
       "      <td>0.848598</td>\n",
       "      <td>-0.142291</td>\n",
       "      <td>-0.635712</td>\n",
       "      <td>-0.222680</td>\n",
       "      <td>-0.697245</td>\n",
       "      <td>0.001099</td>\n",
       "      <td>-0.437301</td>\n",
       "      <td>0.002226</td>\n",
       "      <td>-0.854590</td>\n",
       "      <td>-1.001678</td>\n",
       "      <td>-0.271483</td>\n",
       "      <td>-0.771129</td>\n",
       "      <td>-0.004751</td>\n",
       "      <td>-0.827201</td>\n",
       "      <td>-0.009773</td>\n",
       "      <td>-0.650751</td>\n",
       "      <td>-0.018308</td>\n",
       "      <td>-0.462997</td>\n",
       "      <td>-0.043173</td>\n",
       "      <td>-0.024073</td>\n",
       "      <td>-0.250928</td>\n",
       "      <td>-0.100543</td>\n",
       "      <td>-0.200062</td>\n",
       "      <td>-0.238405</td>\n",
       "      <td>-0.291719</td>\n",
       "      <td>-0.345650</td>\n",
       "      <td>-0.19671</td>\n",
       "      <td>-0.130662</td>\n",
       "      <td>-0.396263</td>\n",
       "      <td>-0.234573</td>\n",
       "      <td>-1.238394</td>\n",
       "      <td>-1.513259</td>\n",
       "      <td>0.848503</td>\n",
       "      <td>-0.062280</td>\n",
       "      <td>-0.638832</td>\n",
       "      <td>-0.268965</td>\n",
       "      <td>-0.701687</td>\n",
       "      <td>-0.034836</td>\n",
       "      <td>-0.442256</td>\n",
       "      <td>-0.008511</td>\n",
       "      <td>-0.862084</td>\n",
       "      <td>-0.900833</td>\n",
       "      <td>-0.561819</td>\n",
       "      <td>-0.778605</td>\n",
       "      <td>-0.098557</td>\n",
       "      <td>-0.834323</td>\n",
       "      <td>-0.064848</td>\n",
       "      <td>-0.652003</td>\n",
       "      <td>-0.012207</td>\n",
       "      <td>-0.473475</td>\n",
       "      <td>-0.043527</td>\n",
       "      <td>-0.026704</td>\n",
       "      <td>-0.285155</td>\n",
       "      <td>-0.099865</td>\n",
       "      <td>-0.200476</td>\n",
       "      <td>-0.237772</td>\n",
       "      <td>-0.291366</td>\n",
       "      <td>-0.347008</td>\n",
       "      <td>-0.196591</td>\n",
       "      <td>-0.130586</td>\n",
       "      <td>-0.397433</td>\n",
       "      <td>-0.238751</td>\n",
       "      <td>-1.246650</td>\n",
       "      <td>-1.524524</td>\n",
       "      <td>0.848172</td>\n",
       "      <td>-0.099674</td>\n",
       "      <td>-0.637759</td>\n",
       "      <td>-0.310958</td>\n",
       "      <td>-0.705318</td>\n",
       "      <td>-0.064928</td>\n",
       "      <td>-0.443752</td>\n",
       "      <td>-0.002445</td>\n",
       "      <td>-0.864387</td>\n",
       "      <td>-0.798653</td>\n",
       "      <td>-0.546803</td>\n",
       "      <td>-0.779495</td>\n",
       "      <td>-0.004594</td>\n",
       "      <td>-0.836702</td>\n",
       "      <td>-0.002803</td>\n",
       "      <td>-0.653425</td>\n",
       "      <td>-0.019850</td>\n",
       "      <td>-0.454390</td>\n",
       "      <td>-0.043769</td>\n",
       "      <td>-0.026314</td>\n",
       "      <td>-0.067659</td>\n",
       "      <td>-0.100178</td>\n",
       "      <td>-0.200129</td>\n",
       "      <td>-0.237567</td>\n",
       "      <td>-0.291223</td>\n",
       "      <td>-0.338151</td>\n",
       "      <td>-0.196515</td>\n",
       "      <td>-0.129181</td>\n",
       "      <td>-0.296162</td>\n",
       "      <td>-0.120523</td>\n",
       "      <td>-1.253537</td>\n",
       "      <td>-1.532662</td>\n",
       "      <td>0.849038</td>\n",
       "      <td>-0.077301</td>\n",
       "      <td>-0.641173</td>\n",
       "      <td>-0.167195</td>\n",
       "      <td>-0.705052</td>\n",
       "      <td>-0.061252</td>\n",
       "      <td>-0.443301</td>\n",
       "      <td>-0.005911</td>\n",
       "      <td>-0.866061</td>\n",
       "      <td>-0.459769</td>\n",
       "      <td>-0.489319</td>\n",
       "      <td>-0.779091</td>\n",
       "      <td>-0.100667</td>\n",
       "      <td>-0.837910</td>\n",
       "      <td>-0.042960</td>\n",
       "      <td>-0.658003</td>\n",
       "      <td>-0.012258</td>\n",
       "      <td>-0.472856</td>\n",
       "      <td>-0.048877</td>\n",
       "      <td>-0.028645</td>\n",
       "      <td>-0.280698</td>\n",
       "      <td>-0.100445</td>\n",
       "      <td>-0.19974</td>\n",
       "      <td>-0.237123</td>\n",
       "      <td>-0.291391</td>\n",
       "      <td>-0.337639</td>\n",
       "      <td>-0.19659</td>\n",
       "      <td>-0.128086</td>\n",
       "      <td>-0.399251</td>\n",
       "      <td>-0.242757</td>\n",
       "      <td>-1.257233</td>\n",
       "      <td>-1.534436</td>\n",
       "      <td>0.849461</td>\n",
       "      <td>-0.097487</td>\n",
       "      <td>-0.634082</td>\n",
       "      <td>-0.002415</td>\n",
       "      <td>-0.704010</td>\n",
       "      <td>-0.055818</td>\n",
       "      <td>-0.449573</td>\n",
       "      <td>0.002415</td>\n",
       "      <td>-0.863424</td>\n",
       "      <td>-0.537146</td>\n",
       "      <td>-0.499678</td>\n",
       "      <td>-0.781355</td>\n",
       "      <td>-0.002416</td>\n",
       "      <td>-0.835807</td>\n",
       "      <td>-0.089426</td>\n",
       "      <td>-0.650330</td>\n",
       "      <td>-0.011814</td>\n",
       "      <td>-0.446252</td>\n",
       "      <td>-0.048804</td>\n",
       "      <td>-0.028262</td>\n",
       "      <td>-0.281305</td>\n",
       "      <td>-0.101188</td>\n",
       "      <td>-0.199365</td>\n",
       "      <td>-0.236712</td>\n",
       "      <td>-0.290537</td>\n",
       "      <td>-0.357744</td>\n",
       "      <td>-0.196644</td>\n",
       "      <td>-0.126751</td>\n",
       "      <td>-0.399700</td>\n",
       "      <td>-0.245014</td>\n",
       "      <td>-1.260918</td>\n",
       "      <td>-1.534959</td>\n",
       "      <td>0.849563</td>\n",
       "      <td>-0.113433</td>\n",
       "      <td>-0.640993</td>\n",
       "      <td>-0.290623</td>\n",
       "      <td>-0.701386</td>\n",
       "      <td>-0.047009</td>\n",
       "      <td>-0.445172</td>\n",
       "      <td>-0.009517</td>\n",
       "      <td>-0.858313</td>\n",
       "      <td>-0.711464</td>\n",
       "      <td>-0.523515</td>\n",
       "      <td>-0.779726</td>\n",
       "      <td>-0.091088</td>\n",
       "      <td>-0.830680</td>\n",
       "      <td>-0.082143</td>\n",
       "      <td>-0.648049</td>\n",
       "      <td>-0.009009</td>\n",
       "      <td>-0.468365</td>\n",
       "      <td>-0.045986</td>\n",
       "      <td>-0.025884</td>\n",
       "    </tr>\n",
       "    <tr>\n",
       "      <th>1</th>\n",
       "      <td>3</td>\n",
       "      <td>1</td>\n",
       "      <td>0</td>\n",
       "      <td>0</td>\n",
       "      <td>1</td>\n",
       "      <td>0</td>\n",
       "      <td>0</td>\n",
       "      <td>1</td>\n",
       "      <td>1</td>\n",
       "      <td>0</td>\n",
       "      <td>-0.324038</td>\n",
       "      <td>0</td>\n",
       "      <td>0</td>\n",
       "      <td>-0.316643</td>\n",
       "      <td>1</td>\n",
       "      <td>-0.328310</td>\n",
       "      <td>1</td>\n",
       "      <td>1</td>\n",
       "      <td>0.535702</td>\n",
       "      <td>-0.014683</td>\n",
       "      <td>-0.274464</td>\n",
       "      <td>1.792438</td>\n",
       "      <td>-0.200467</td>\n",
       "      <td>-0.23861</td>\n",
       "      <td>-0.292053</td>\n",
       "      <td>-0.143361</td>\n",
       "      <td>-0.19632</td>\n",
       "      <td>-0.130486</td>\n",
       "      <td>0.389649</td>\n",
       "      <td>1.246267</td>\n",
       "      <td>0.792509</td>\n",
       "      <td>0.321326</td>\n",
       "      <td>-0.342748</td>\n",
       "      <td>-0.142291</td>\n",
       "      <td>-0.635712</td>\n",
       "      <td>-0.222680</td>\n",
       "      <td>-0.697245</td>\n",
       "      <td>0.001099</td>\n",
       "      <td>-0.437301</td>\n",
       "      <td>0.002226</td>\n",
       "      <td>-0.854590</td>\n",
       "      <td>-0.892732</td>\n",
       "      <td>-0.271483</td>\n",
       "      <td>-0.771129</td>\n",
       "      <td>-0.004751</td>\n",
       "      <td>-0.827201</td>\n",
       "      <td>-0.009773</td>\n",
       "      <td>-0.650751</td>\n",
       "      <td>-0.018308</td>\n",
       "      <td>-0.462997</td>\n",
       "      <td>-0.043173</td>\n",
       "      <td>-0.024073</td>\n",
       "      <td>-0.251913</td>\n",
       "      <td>1.773826</td>\n",
       "      <td>-0.200062</td>\n",
       "      <td>-0.238405</td>\n",
       "      <td>-0.291719</td>\n",
       "      <td>0.454435</td>\n",
       "      <td>-0.19671</td>\n",
       "      <td>-0.130662</td>\n",
       "      <td>0.397118</td>\n",
       "      <td>1.205301</td>\n",
       "      <td>0.791507</td>\n",
       "      <td>0.318988</td>\n",
       "      <td>-0.344234</td>\n",
       "      <td>-0.062280</td>\n",
       "      <td>-0.638832</td>\n",
       "      <td>-0.268965</td>\n",
       "      <td>-0.701687</td>\n",
       "      <td>-0.034836</td>\n",
       "      <td>-0.442256</td>\n",
       "      <td>-0.008511</td>\n",
       "      <td>-0.862084</td>\n",
       "      <td>-0.819161</td>\n",
       "      <td>-0.561819</td>\n",
       "      <td>-0.778605</td>\n",
       "      <td>-0.098557</td>\n",
       "      <td>-0.834323</td>\n",
       "      <td>-0.064848</td>\n",
       "      <td>-0.652003</td>\n",
       "      <td>-0.012207</td>\n",
       "      <td>-0.473475</td>\n",
       "      <td>-0.043527</td>\n",
       "      <td>-0.026704</td>\n",
       "      <td>-0.287980</td>\n",
       "      <td>1.747871</td>\n",
       "      <td>-0.200476</td>\n",
       "      <td>-0.237772</td>\n",
       "      <td>-0.291366</td>\n",
       "      <td>0.478011</td>\n",
       "      <td>-0.196591</td>\n",
       "      <td>-0.130586</td>\n",
       "      <td>0.389728</td>\n",
       "      <td>1.218727</td>\n",
       "      <td>0.787880</td>\n",
       "      <td>0.314315</td>\n",
       "      <td>-0.345865</td>\n",
       "      <td>-0.099674</td>\n",
       "      <td>-0.637759</td>\n",
       "      <td>-0.310958</td>\n",
       "      <td>-0.705318</td>\n",
       "      <td>-0.064928</td>\n",
       "      <td>-0.443752</td>\n",
       "      <td>-0.002445</td>\n",
       "      <td>-0.864387</td>\n",
       "      <td>-0.718219</td>\n",
       "      <td>-0.546803</td>\n",
       "      <td>-0.779495</td>\n",
       "      <td>-0.004594</td>\n",
       "      <td>-0.836702</td>\n",
       "      <td>-0.002803</td>\n",
       "      <td>-0.653425</td>\n",
       "      <td>-0.019850</td>\n",
       "      <td>-0.454390</td>\n",
       "      <td>-0.043769</td>\n",
       "      <td>-0.026314</td>\n",
       "      <td>-0.068780</td>\n",
       "      <td>1.757746</td>\n",
       "      <td>-0.200129</td>\n",
       "      <td>-0.237567</td>\n",
       "      <td>-0.291223</td>\n",
       "      <td>0.465937</td>\n",
       "      <td>-0.196515</td>\n",
       "      <td>-0.129181</td>\n",
       "      <td>0.276683</td>\n",
       "      <td>0.597144</td>\n",
       "      <td>0.785271</td>\n",
       "      <td>0.310278</td>\n",
       "      <td>-0.346863</td>\n",
       "      <td>-0.077301</td>\n",
       "      <td>-0.641173</td>\n",
       "      <td>-0.167195</td>\n",
       "      <td>-0.705052</td>\n",
       "      <td>-0.061252</td>\n",
       "      <td>-0.443301</td>\n",
       "      <td>-0.005911</td>\n",
       "      <td>-0.866061</td>\n",
       "      <td>-0.723757</td>\n",
       "      <td>-0.489319</td>\n",
       "      <td>-0.779091</td>\n",
       "      <td>-0.100667</td>\n",
       "      <td>-0.837910</td>\n",
       "      <td>-0.042960</td>\n",
       "      <td>-0.658003</td>\n",
       "      <td>-0.012258</td>\n",
       "      <td>-0.472856</td>\n",
       "      <td>-0.048877</td>\n",
       "      <td>-0.028645</td>\n",
       "      <td>-0.284192</td>\n",
       "      <td>1.769265</td>\n",
       "      <td>-0.19974</td>\n",
       "      <td>-0.237123</td>\n",
       "      <td>-0.291391</td>\n",
       "      <td>-0.337639</td>\n",
       "      <td>-0.19659</td>\n",
       "      <td>-0.128086</td>\n",
       "      <td>0.352991</td>\n",
       "      <td>1.215977</td>\n",
       "      <td>0.785254</td>\n",
       "      <td>0.310266</td>\n",
       "      <td>-0.348689</td>\n",
       "      <td>-0.097487</td>\n",
       "      <td>-0.634082</td>\n",
       "      <td>-0.002415</td>\n",
       "      <td>-0.704010</td>\n",
       "      <td>-0.055818</td>\n",
       "      <td>-0.449573</td>\n",
       "      <td>0.002415</td>\n",
       "      <td>-0.863424</td>\n",
       "      <td>-0.852225</td>\n",
       "      <td>-0.499678</td>\n",
       "      <td>-0.781355</td>\n",
       "      <td>-0.002416</td>\n",
       "      <td>-0.835807</td>\n",
       "      <td>-0.089426</td>\n",
       "      <td>-0.650330</td>\n",
       "      <td>-0.011814</td>\n",
       "      <td>-0.446252</td>\n",
       "      <td>-0.048804</td>\n",
       "      <td>-0.028262</td>\n",
       "      <td>-0.283411</td>\n",
       "      <td>1.796224</td>\n",
       "      <td>-0.199365</td>\n",
       "      <td>-0.236712</td>\n",
       "      <td>-0.290537</td>\n",
       "      <td>-0.357744</td>\n",
       "      <td>-0.196644</td>\n",
       "      <td>-0.126751</td>\n",
       "      <td>0.363480</td>\n",
       "      <td>1.229131</td>\n",
       "      <td>0.783584</td>\n",
       "      <td>0.309462</td>\n",
       "      <td>-0.350214</td>\n",
       "      <td>-0.113433</td>\n",
       "      <td>-0.640993</td>\n",
       "      <td>-0.290623</td>\n",
       "      <td>-0.701386</td>\n",
       "      <td>-0.047009</td>\n",
       "      <td>-0.445172</td>\n",
       "      <td>-0.009517</td>\n",
       "      <td>-0.858313</td>\n",
       "      <td>-0.816536</td>\n",
       "      <td>-0.523515</td>\n",
       "      <td>-0.779726</td>\n",
       "      <td>-0.091088</td>\n",
       "      <td>-0.830680</td>\n",
       "      <td>-0.082143</td>\n",
       "      <td>-0.648049</td>\n",
       "      <td>-0.009009</td>\n",
       "      <td>-0.468365</td>\n",
       "      <td>-0.045986</td>\n",
       "      <td>-0.025884</td>\n",
       "    </tr>\n",
       "    <tr>\n",
       "      <th>2</th>\n",
       "      <td>5</td>\n",
       "      <td>0</td>\n",
       "      <td>0</td>\n",
       "      <td>0</td>\n",
       "      <td>1</td>\n",
       "      <td>0</td>\n",
       "      <td>0</td>\n",
       "      <td>0</td>\n",
       "      <td>1</td>\n",
       "      <td>0</td>\n",
       "      <td>-0.324038</td>\n",
       "      <td>0</td>\n",
       "      <td>0</td>\n",
       "      <td>-0.316643</td>\n",
       "      <td>0</td>\n",
       "      <td>-0.328310</td>\n",
       "      <td>1</td>\n",
       "      <td>0</td>\n",
       "      <td>-0.782299</td>\n",
       "      <td>-1.159759</td>\n",
       "      <td>-0.241807</td>\n",
       "      <td>-0.100942</td>\n",
       "      <td>-0.200467</td>\n",
       "      <td>-0.23861</td>\n",
       "      <td>-0.292053</td>\n",
       "      <td>-0.345462</td>\n",
       "      <td>-0.19632</td>\n",
       "      <td>-0.130486</td>\n",
       "      <td>-0.391697</td>\n",
       "      <td>-0.225809</td>\n",
       "      <td>-1.234815</td>\n",
       "      <td>-1.505169</td>\n",
       "      <td>-0.541306</td>\n",
       "      <td>-0.142291</td>\n",
       "      <td>-0.635712</td>\n",
       "      <td>-0.136122</td>\n",
       "      <td>-0.430114</td>\n",
       "      <td>0.006219</td>\n",
       "      <td>1.183461</td>\n",
       "      <td>0.005981</td>\n",
       "      <td>4.145080</td>\n",
       "      <td>3.437881</td>\n",
       "      <td>-0.271483</td>\n",
       "      <td>-0.771129</td>\n",
       "      <td>-0.003797</td>\n",
       "      <td>4.516869</td>\n",
       "      <td>0.000572</td>\n",
       "      <td>0.150151</td>\n",
       "      <td>-0.016861</td>\n",
       "      <td>-0.389205</td>\n",
       "      <td>-0.043173</td>\n",
       "      <td>-0.024073</td>\n",
       "      <td>-0.249030</td>\n",
       "      <td>-0.100543</td>\n",
       "      <td>-0.200062</td>\n",
       "      <td>-0.238405</td>\n",
       "      <td>-0.291719</td>\n",
       "      <td>-0.345650</td>\n",
       "      <td>-0.19671</td>\n",
       "      <td>-0.130662</td>\n",
       "      <td>-0.395786</td>\n",
       "      <td>-0.233705</td>\n",
       "      <td>-1.238394</td>\n",
       "      <td>-0.902510</td>\n",
       "      <td>-0.543023</td>\n",
       "      <td>-0.045796</td>\n",
       "      <td>0.256516</td>\n",
       "      <td>-0.268965</td>\n",
       "      <td>-0.701687</td>\n",
       "      <td>-0.014457</td>\n",
       "      <td>1.173028</td>\n",
       "      <td>-0.001107</td>\n",
       "      <td>4.410918</td>\n",
       "      <td>3.591126</td>\n",
       "      <td>0.255006</td>\n",
       "      <td>0.539997</td>\n",
       "      <td>-0.083740</td>\n",
       "      <td>4.704507</td>\n",
       "      <td>-0.050359</td>\n",
       "      <td>0.745392</td>\n",
       "      <td>-0.011843</td>\n",
       "      <td>-0.371875</td>\n",
       "      <td>-0.043527</td>\n",
       "      <td>-0.026704</td>\n",
       "      <td>-0.288768</td>\n",
       "      <td>-0.099865</td>\n",
       "      <td>-0.200476</td>\n",
       "      <td>-0.237772</td>\n",
       "      <td>-0.291366</td>\n",
       "      <td>-0.347008</td>\n",
       "      <td>-0.196591</td>\n",
       "      <td>-0.130586</td>\n",
       "      <td>-0.398140</td>\n",
       "      <td>-0.240230</td>\n",
       "      <td>-1.246650</td>\n",
       "      <td>-0.911578</td>\n",
       "      <td>-0.345865</td>\n",
       "      <td>-0.072356</td>\n",
       "      <td>-0.042786</td>\n",
       "      <td>-0.310958</td>\n",
       "      <td>-0.705318</td>\n",
       "      <td>-0.064928</td>\n",
       "      <td>-0.443752</td>\n",
       "      <td>-0.002453</td>\n",
       "      <td>1.584271</td>\n",
       "      <td>1.104960</td>\n",
       "      <td>0.664280</td>\n",
       "      <td>0.532861</td>\n",
       "      <td>-0.004489</td>\n",
       "      <td>1.807308</td>\n",
       "      <td>-0.002793</td>\n",
       "      <td>-0.454040</td>\n",
       "      <td>-0.019542</td>\n",
       "      <td>-0.429645</td>\n",
       "      <td>-0.043769</td>\n",
       "      <td>-0.026314</td>\n",
       "      <td>-0.068958</td>\n",
       "      <td>-0.100178</td>\n",
       "      <td>-0.200129</td>\n",
       "      <td>-0.237567</td>\n",
       "      <td>-0.291223</td>\n",
       "      <td>-0.338151</td>\n",
       "      <td>-0.196515</td>\n",
       "      <td>-0.129181</td>\n",
       "      <td>-0.295976</td>\n",
       "      <td>-0.121684</td>\n",
       "      <td>-1.253537</td>\n",
       "      <td>-0.918349</td>\n",
       "      <td>-0.346863</td>\n",
       "      <td>0.004682</td>\n",
       "      <td>1.139333</td>\n",
       "      <td>-0.130890</td>\n",
       "      <td>-0.436296</td>\n",
       "      <td>-0.006984</td>\n",
       "      <td>1.130410</td>\n",
       "      <td>-0.002086</td>\n",
       "      <td>2.233639</td>\n",
       "      <td>1.572939</td>\n",
       "      <td>0.635487</td>\n",
       "      <td>0.509239</td>\n",
       "      <td>-0.072550</td>\n",
       "      <td>2.416148</td>\n",
       "      <td>-0.028912</td>\n",
       "      <td>0.137629</td>\n",
       "      <td>-0.011783</td>\n",
       "      <td>-0.369455</td>\n",
       "      <td>-0.048877</td>\n",
       "      <td>-0.028645</td>\n",
       "      <td>-0.284941</td>\n",
       "      <td>-0.100445</td>\n",
       "      <td>-0.19974</td>\n",
       "      <td>-0.237123</td>\n",
       "      <td>-0.291391</td>\n",
       "      <td>-0.337639</td>\n",
       "      <td>-0.19659</td>\n",
       "      <td>-0.128086</td>\n",
       "      <td>-0.400142</td>\n",
       "      <td>-0.244585</td>\n",
       "      <td>-1.257233</td>\n",
       "      <td>-1.534436</td>\n",
       "      <td>-0.348689</td>\n",
       "      <td>-0.023756</td>\n",
       "      <td>0.240695</td>\n",
       "      <td>-0.002415</td>\n",
       "      <td>-0.704010</td>\n",
       "      <td>0.022658</td>\n",
       "      <td>0.605908</td>\n",
       "      <td>0.002415</td>\n",
       "      <td>0.977902</td>\n",
       "      <td>0.539374</td>\n",
       "      <td>-0.499678</td>\n",
       "      <td>-0.781355</td>\n",
       "      <td>-0.002415</td>\n",
       "      <td>1.110735</td>\n",
       "      <td>-0.045351</td>\n",
       "      <td>-0.257364</td>\n",
       "      <td>-0.011294</td>\n",
       "      <td>-0.373781</td>\n",
       "      <td>-0.048804</td>\n",
       "      <td>-0.028262</td>\n",
       "      <td>-0.284158</td>\n",
       "      <td>-0.101188</td>\n",
       "      <td>-0.199365</td>\n",
       "      <td>-0.236712</td>\n",
       "      <td>-0.290537</td>\n",
       "      <td>-0.357744</td>\n",
       "      <td>-0.196644</td>\n",
       "      <td>-0.126751</td>\n",
       "      <td>-0.400296</td>\n",
       "      <td>-0.246258</td>\n",
       "      <td>-1.260918</td>\n",
       "      <td>-1.534959</td>\n",
       "      <td>-0.350214</td>\n",
       "      <td>-0.082693</td>\n",
       "      <td>-0.058259</td>\n",
       "      <td>-0.162511</td>\n",
       "      <td>-0.429849</td>\n",
       "      <td>0.018059</td>\n",
       "      <td>0.604461</td>\n",
       "      <td>0.003569</td>\n",
       "      <td>1.827715</td>\n",
       "      <td>1.311156</td>\n",
       "      <td>-0.523515</td>\n",
       "      <td>-0.779726</td>\n",
       "      <td>-0.051949</td>\n",
       "      <td>2.037819</td>\n",
       "      <td>-0.039989</td>\n",
       "      <td>-0.252367</td>\n",
       "      <td>-0.008838</td>\n",
       "      <td>-0.417664</td>\n",
       "      <td>-0.045986</td>\n",
       "      <td>-0.025884</td>\n",
       "    </tr>\n",
       "    <tr>\n",
       "      <th>3</th>\n",
       "      <td>7</td>\n",
       "      <td>0</td>\n",
       "      <td>0</td>\n",
       "      <td>0</td>\n",
       "      <td>1</td>\n",
       "      <td>1</td>\n",
       "      <td>0</td>\n",
       "      <td>0</td>\n",
       "      <td>1</td>\n",
       "      <td>1</td>\n",
       "      <td>-0.324038</td>\n",
       "      <td>0</td>\n",
       "      <td>0</td>\n",
       "      <td>-0.316643</td>\n",
       "      <td>1</td>\n",
       "      <td>-0.328310</td>\n",
       "      <td>1</td>\n",
       "      <td>0</td>\n",
       "      <td>0.613232</td>\n",
       "      <td>-0.014683</td>\n",
       "      <td>0.672471</td>\n",
       "      <td>-0.100942</td>\n",
       "      <td>-0.200467</td>\n",
       "      <td>-0.23861</td>\n",
       "      <td>4.406560</td>\n",
       "      <td>-0.270122</td>\n",
       "      <td>-0.19632</td>\n",
       "      <td>-0.130486</td>\n",
       "      <td>3.101202</td>\n",
       "      <td>0.163461</td>\n",
       "      <td>0.116734</td>\n",
       "      <td>0.321326</td>\n",
       "      <td>0.054367</td>\n",
       "      <td>-0.044704</td>\n",
       "      <td>-0.037445</td>\n",
       "      <td>-0.222680</td>\n",
       "      <td>-0.697245</td>\n",
       "      <td>0.001099</td>\n",
       "      <td>-0.437301</td>\n",
       "      <td>0.002066</td>\n",
       "      <td>0.034921</td>\n",
       "      <td>0.087784</td>\n",
       "      <td>0.037835</td>\n",
       "      <td>0.511901</td>\n",
       "      <td>-0.004644</td>\n",
       "      <td>0.147503</td>\n",
       "      <td>-0.009773</td>\n",
       "      <td>-0.650751</td>\n",
       "      <td>-0.018308</td>\n",
       "      <td>-0.462997</td>\n",
       "      <td>-0.043173</td>\n",
       "      <td>-0.024073</td>\n",
       "      <td>0.400527</td>\n",
       "      <td>-0.100543</td>\n",
       "      <td>-0.200062</td>\n",
       "      <td>-0.238405</td>\n",
       "      <td>4.382403</td>\n",
       "      <td>-0.328941</td>\n",
       "      <td>-0.19671</td>\n",
       "      <td>-0.130662</td>\n",
       "      <td>3.009867</td>\n",
       "      <td>0.063390</td>\n",
       "      <td>0.114874</td>\n",
       "      <td>0.318988</td>\n",
       "      <td>0.053345</td>\n",
       "      <td>-0.022677</td>\n",
       "      <td>-0.041933</td>\n",
       "      <td>-0.268965</td>\n",
       "      <td>-0.701687</td>\n",
       "      <td>-0.034836</td>\n",
       "      <td>-0.442256</td>\n",
       "      <td>-0.012243</td>\n",
       "      <td>-0.494200</td>\n",
       "      <td>-0.574145</td>\n",
       "      <td>-0.047265</td>\n",
       "      <td>1.199298</td>\n",
       "      <td>-0.093671</td>\n",
       "      <td>-0.431499</td>\n",
       "      <td>-0.064848</td>\n",
       "      <td>-0.652003</td>\n",
       "      <td>-0.012207</td>\n",
       "      <td>-0.473475</td>\n",
       "      <td>-0.043527</td>\n",
       "      <td>-0.026704</td>\n",
       "      <td>0.382542</td>\n",
       "      <td>-0.099865</td>\n",
       "      <td>-0.200476</td>\n",
       "      <td>-0.237772</td>\n",
       "      <td>4.364916</td>\n",
       "      <td>0.742056</td>\n",
       "      <td>-0.196591</td>\n",
       "      <td>-0.130586</td>\n",
       "      <td>2.996427</td>\n",
       "      <td>0.034363</td>\n",
       "      <td>0.109704</td>\n",
       "      <td>0.314315</td>\n",
       "      <td>0.052147</td>\n",
       "      <td>-0.034042</td>\n",
       "      <td>-0.042786</td>\n",
       "      <td>-0.145234</td>\n",
       "      <td>1.457479</td>\n",
       "      <td>-0.064928</td>\n",
       "      <td>-0.443752</td>\n",
       "      <td>-0.002499</td>\n",
       "      <td>-0.441162</td>\n",
       "      <td>-0.637784</td>\n",
       "      <td>-0.200170</td>\n",
       "      <td>-0.123317</td>\n",
       "      <td>-0.004324</td>\n",
       "      <td>-0.374000</td>\n",
       "      <td>-0.002803</td>\n",
       "      <td>-0.653425</td>\n",
       "      <td>-0.019850</td>\n",
       "      <td>-0.454390</td>\n",
       "      <td>-0.043769</td>\n",
       "      <td>-0.026314</td>\n",
       "      <td>0.087271</td>\n",
       "      <td>-0.100178</td>\n",
       "      <td>-0.200129</td>\n",
       "      <td>-0.237567</td>\n",
       "      <td>4.349127</td>\n",
       "      <td>1.176582</td>\n",
       "      <td>-0.196515</td>\n",
       "      <td>-0.129181</td>\n",
       "      <td>2.214390</td>\n",
       "      <td>0.017884</td>\n",
       "      <td>0.105668</td>\n",
       "      <td>0.310278</td>\n",
       "      <td>-0.147546</td>\n",
       "      <td>-0.028834</td>\n",
       "      <td>-0.047671</td>\n",
       "      <td>-0.107514</td>\n",
       "      <td>0.638729</td>\n",
       "      <td>-0.061252</td>\n",
       "      <td>-0.443301</td>\n",
       "      <td>-0.009811</td>\n",
       "      <td>-0.418989</td>\n",
       "      <td>-0.618161</td>\n",
       "      <td>0.077285</td>\n",
       "      <td>1.797569</td>\n",
       "      <td>-0.090763</td>\n",
       "      <td>-0.349802</td>\n",
       "      <td>-0.042960</td>\n",
       "      <td>-0.658003</td>\n",
       "      <td>-0.012258</td>\n",
       "      <td>-0.472856</td>\n",
       "      <td>-0.048877</td>\n",
       "      <td>-0.028645</td>\n",
       "      <td>0.356872</td>\n",
       "      <td>-0.100445</td>\n",
       "      <td>-0.19974</td>\n",
       "      <td>-0.237123</td>\n",
       "      <td>4.337944</td>\n",
       "      <td>1.650945</td>\n",
       "      <td>-0.19659</td>\n",
       "      <td>-0.128086</td>\n",
       "      <td>2.990582</td>\n",
       "      <td>0.032040</td>\n",
       "      <td>0.104425</td>\n",
       "      <td>0.310266</td>\n",
       "      <td>-0.148997</td>\n",
       "      <td>-0.034818</td>\n",
       "      <td>-0.050897</td>\n",
       "      <td>-0.002415</td>\n",
       "      <td>1.197245</td>\n",
       "      <td>-0.055818</td>\n",
       "      <td>-0.449573</td>\n",
       "      <td>0.002415</td>\n",
       "      <td>-0.447641</td>\n",
       "      <td>-0.589659</td>\n",
       "      <td>0.021319</td>\n",
       "      <td>1.204279</td>\n",
       "      <td>-0.002416</td>\n",
       "      <td>-0.381614</td>\n",
       "      <td>-0.089426</td>\n",
       "      <td>-0.650330</td>\n",
       "      <td>-0.011814</td>\n",
       "      <td>-0.446252</td>\n",
       "      <td>-0.048804</td>\n",
       "      <td>-0.028262</td>\n",
       "      <td>0.244672</td>\n",
       "      <td>-0.101188</td>\n",
       "      <td>-0.199365</td>\n",
       "      <td>-0.236712</td>\n",
       "      <td>4.310680</td>\n",
       "      <td>1.738027</td>\n",
       "      <td>-0.196644</td>\n",
       "      <td>-0.126751</td>\n",
       "      <td>2.967097</td>\n",
       "      <td>-0.015623</td>\n",
       "      <td>0.102083</td>\n",
       "      <td>0.309462</td>\n",
       "      <td>-0.150251</td>\n",
       "      <td>-0.039579</td>\n",
       "      <td>-0.058259</td>\n",
       "      <td>-0.088422</td>\n",
       "      <td>0.927838</td>\n",
       "      <td>-0.047009</td>\n",
       "      <td>-0.445172</td>\n",
       "      <td>-0.032333</td>\n",
       "      <td>-0.291263</td>\n",
       "      <td>-0.159841</td>\n",
       "      <td>-0.056724</td>\n",
       "      <td>1.861536</td>\n",
       "      <td>-0.069840</td>\n",
       "      <td>-0.243942</td>\n",
       "      <td>-0.082069</td>\n",
       "      <td>-0.450208</td>\n",
       "      <td>-0.009009</td>\n",
       "      <td>-0.316262</td>\n",
       "      <td>-0.045986</td>\n",
       "      <td>-0.025884</td>\n",
       "    </tr>\n",
       "    <tr>\n",
       "      <th>4</th>\n",
       "      <td>10</td>\n",
       "      <td>0</td>\n",
       "      <td>0</td>\n",
       "      <td>0</td>\n",
       "      <td>1</td>\n",
       "      <td>1</td>\n",
       "      <td>0</td>\n",
       "      <td>0</td>\n",
       "      <td>0</td>\n",
       "      <td>0</td>\n",
       "      <td>1.013453</td>\n",
       "      <td>0</td>\n",
       "      <td>1</td>\n",
       "      <td>1.156012</td>\n",
       "      <td>1</td>\n",
       "      <td>1.719513</td>\n",
       "      <td>1</td>\n",
       "      <td>0</td>\n",
       "      <td>0.148055</td>\n",
       "      <td>-1.055661</td>\n",
       "      <td>-0.143129</td>\n",
       "      <td>-0.100942</td>\n",
       "      <td>-0.200467</td>\n",
       "      <td>-0.23861</td>\n",
       "      <td>-0.292053</td>\n",
       "      <td>-0.324174</td>\n",
       "      <td>-0.19632</td>\n",
       "      <td>0.665292</td>\n",
       "      <td>-0.354598</td>\n",
       "      <td>-0.183795</td>\n",
       "      <td>0.116734</td>\n",
       "      <td>0.321326</td>\n",
       "      <td>-0.739863</td>\n",
       "      <td>0.261474</td>\n",
       "      <td>-0.037445</td>\n",
       "      <td>-0.017929</td>\n",
       "      <td>0.104147</td>\n",
       "      <td>0.001099</td>\n",
       "      <td>-0.437301</td>\n",
       "      <td>0.000852</td>\n",
       "      <td>0.679051</td>\n",
       "      <td>0.305677</td>\n",
       "      <td>0.274785</td>\n",
       "      <td>1.153415</td>\n",
       "      <td>-0.003835</td>\n",
       "      <td>0.853324</td>\n",
       "      <td>-0.009773</td>\n",
       "      <td>-0.650751</td>\n",
       "      <td>-0.018308</td>\n",
       "      <td>-0.462997</td>\n",
       "      <td>-0.043173</td>\n",
       "      <td>-0.024073</td>\n",
       "      <td>-0.156707</td>\n",
       "      <td>-0.100543</td>\n",
       "      <td>-0.200062</td>\n",
       "      <td>-0.238405</td>\n",
       "      <td>-0.291719</td>\n",
       "      <td>-0.306685</td>\n",
       "      <td>-0.19671</td>\n",
       "      <td>0.631191</td>\n",
       "      <td>-0.358783</td>\n",
       "      <td>-0.191478</td>\n",
       "      <td>0.114874</td>\n",
       "      <td>0.318988</td>\n",
       "      <td>-0.741812</td>\n",
       "      <td>-0.050076</td>\n",
       "      <td>-0.340383</td>\n",
       "      <td>-0.161435</td>\n",
       "      <td>0.101570</td>\n",
       "      <td>-0.034836</td>\n",
       "      <td>-0.442256</td>\n",
       "      <td>0.015754</td>\n",
       "      <td>0.517480</td>\n",
       "      <td>0.188127</td>\n",
       "      <td>0.590644</td>\n",
       "      <td>1.199298</td>\n",
       "      <td>-0.080272</td>\n",
       "      <td>0.642698</td>\n",
       "      <td>-0.035258</td>\n",
       "      <td>-0.452375</td>\n",
       "      <td>-0.011602</td>\n",
       "      <td>-0.422675</td>\n",
       "      <td>-0.043527</td>\n",
       "      <td>-0.026704</td>\n",
       "      <td>-0.206411</td>\n",
       "      <td>-0.099865</td>\n",
       "      <td>-0.200476</td>\n",
       "      <td>-0.237772</td>\n",
       "      <td>-0.291366</td>\n",
       "      <td>-0.176878</td>\n",
       "      <td>-0.196591</td>\n",
       "      <td>0.601699</td>\n",
       "      <td>-0.365363</td>\n",
       "      <td>-0.206542</td>\n",
       "      <td>0.109704</td>\n",
       "      <td>0.314315</td>\n",
       "      <td>-0.743877</td>\n",
       "      <td>-0.079449</td>\n",
       "      <td>-0.340272</td>\n",
       "      <td>-0.310958</td>\n",
       "      <td>-0.705318</td>\n",
       "      <td>-0.064928</td>\n",
       "      <td>-0.443752</td>\n",
       "      <td>-0.002498</td>\n",
       "      <td>0.737821</td>\n",
       "      <td>0.381051</td>\n",
       "      <td>0.697349</td>\n",
       "      <td>1.189039</td>\n",
       "      <td>-0.004271</td>\n",
       "      <td>0.881904</td>\n",
       "      <td>-0.002794</td>\n",
       "      <td>-0.454040</td>\n",
       "      <td>-0.019761</td>\n",
       "      <td>-0.404900</td>\n",
       "      <td>-0.043769</td>\n",
       "      <td>-0.026314</td>\n",
       "      <td>-0.047102</td>\n",
       "      <td>-0.100178</td>\n",
       "      <td>-0.200129</td>\n",
       "      <td>-0.237567</td>\n",
       "      <td>-0.291223</td>\n",
       "      <td>-0.338151</td>\n",
       "      <td>-0.196515</td>\n",
       "      <td>0.566946</td>\n",
       "      <td>-0.272141</td>\n",
       "      <td>-0.102159</td>\n",
       "      <td>0.105668</td>\n",
       "      <td>0.310278</td>\n",
       "      <td>-0.745497</td>\n",
       "      <td>0.129039</td>\n",
       "      <td>-0.047671</td>\n",
       "      <td>-0.104865</td>\n",
       "      <td>0.369973</td>\n",
       "      <td>-0.061252</td>\n",
       "      <td>-0.443301</td>\n",
       "      <td>-0.016446</td>\n",
       "      <td>0.952032</td>\n",
       "      <td>0.543386</td>\n",
       "      <td>0.829430</td>\n",
       "      <td>1.797569</td>\n",
       "      <td>-0.072107</td>\n",
       "      <td>1.114525</td>\n",
       "      <td>-0.042289</td>\n",
       "      <td>-0.459095</td>\n",
       "      <td>-0.012237</td>\n",
       "      <td>-0.421156</td>\n",
       "      <td>-0.048877</td>\n",
       "      <td>-0.028645</td>\n",
       "      <td>-0.195694</td>\n",
       "      <td>-0.100445</td>\n",
       "      <td>-0.19974</td>\n",
       "      <td>-0.237123</td>\n",
       "      <td>-0.291391</td>\n",
       "      <td>-0.329588</td>\n",
       "      <td>-0.19659</td>\n",
       "      <td>0.536529</td>\n",
       "      <td>-0.367740</td>\n",
       "      <td>-0.206119</td>\n",
       "      <td>0.104425</td>\n",
       "      <td>0.310266</td>\n",
       "      <td>-0.748072</td>\n",
       "      <td>0.169317</td>\n",
       "      <td>-0.050897</td>\n",
       "      <td>-0.002415</td>\n",
       "      <td>-0.160794</td>\n",
       "      <td>-0.055818</td>\n",
       "      <td>-0.449573</td>\n",
       "      <td>0.002415</td>\n",
       "      <td>0.294829</td>\n",
       "      <td>-0.038271</td>\n",
       "      <td>0.590290</td>\n",
       "      <td>1.204279</td>\n",
       "      <td>-0.002416</td>\n",
       "      <td>0.397003</td>\n",
       "      <td>-0.086208</td>\n",
       "      <td>-0.453847</td>\n",
       "      <td>-0.011763</td>\n",
       "      <td>-0.373781</td>\n",
       "      <td>-0.048804</td>\n",
       "      <td>-0.028262</td>\n",
       "      <td>-0.173261</td>\n",
       "      <td>-0.101188</td>\n",
       "      <td>-0.199365</td>\n",
       "      <td>-0.236712</td>\n",
       "      <td>-0.290537</td>\n",
       "      <td>-0.278226</td>\n",
       "      <td>-0.196644</td>\n",
       "      <td>0.500934</td>\n",
       "      <td>-0.363035</td>\n",
       "      <td>-0.197893</td>\n",
       "      <td>0.102083</td>\n",
       "      <td>0.309462</td>\n",
       "      <td>-0.750140</td>\n",
       "      <td>0.200990</td>\n",
       "      <td>-0.058259</td>\n",
       "      <td>-0.213259</td>\n",
       "      <td>-0.158312</td>\n",
       "      <td>-0.047009</td>\n",
       "      <td>-0.445172</td>\n",
       "      <td>-0.037360</td>\n",
       "      <td>0.574235</td>\n",
       "      <td>0.207908</td>\n",
       "      <td>0.712943</td>\n",
       "      <td>1.861536</td>\n",
       "      <td>-0.064958</td>\n",
       "      <td>0.701359</td>\n",
       "      <td>-0.081888</td>\n",
       "      <td>-0.450208</td>\n",
       "      <td>-0.009008</td>\n",
       "      <td>-0.417664</td>\n",
       "      <td>-0.045986</td>\n",
       "      <td>-0.025884</td>\n",
       "    </tr>\n",
       "  </tbody>\n",
       "</table>\n",
       "</div>"
      ],
      "text/plain": [
       "   Unique_Client_ID  Gone  Has_SWM  Has_RRSP_RRIF  Has_Chequing  \\\n",
       "0                 2     0        0              0             1   \n",
       "1                 3     1        0              0             1   \n",
       "2                 5     0        0              0             1   \n",
       "3                 7     0        0              0             1   \n",
       "4                10     0        0              0             1   \n",
       "\n",
       "   Has_Pre_Authorized_Income  Has_TFSA  Has_Unregistered_Term  \\\n",
       "0                          0         0                      0   \n",
       "1                          0         0                      1   \n",
       "2                          0         0                      0   \n",
       "3                          1         0                      0   \n",
       "4                          1         0                      0   \n",
       "\n",
       "   Has_Joint_Account  Has_Mortgage  max_TermToMaturity Gender  Has_Loan  \\\n",
       "0                  1             0           -0.324038      1         0   \n",
       "1                  1             0           -0.324038      0         0   \n",
       "2                  1             0           -0.324038      0         0   \n",
       "3                  1             1           -0.324038      0         0   \n",
       "4                  0             0            1.013453      0         1   \n",
       "\n",
       "   min_TermToMaturity  Has_Visa  mortgagesLoans_Counts  \\\n",
       "0           -0.316643         0              -0.328310   \n",
       "1           -0.316643         1              -0.328310   \n",
       "2           -0.316643         0              -0.328310   \n",
       "3           -0.316643         1              -0.328310   \n",
       "4            1.156012         1               1.719513   \n",
       "\n",
       "   Has_Unregistered_Demand  Has_ApprovedLOC       Age    Tenure  \\\n",
       "0                        1                0  0.303114 -0.118781   \n",
       "1                        1                1  0.535702 -0.014683   \n",
       "2                        1                0 -0.782299 -1.159759   \n",
       "3                        1                0  0.613232 -0.014683   \n",
       "4                        1                0  0.148055 -1.055661   \n",
       "\n",
       "   Unregistered_Demand_Balance_1  Unregistered_Term_Balance_1  \\\n",
       "0                      -0.272982                    -0.100942   \n",
       "1                      -0.274464                     1.792438   \n",
       "2                      -0.241807                    -0.100942   \n",
       "3                       0.672471                    -0.100942   \n",
       "4                      -0.143129                    -0.100942   \n",
       "\n",
       "   RRSP_RRIF_Balance_1  TFSA_Balance_1  Mortgage_Balance_1  Visa_Balance_1  \\\n",
       "0            -0.200467        -0.23861           -0.292053       -0.345462   \n",
       "1            -0.200467        -0.23861           -0.292053       -0.143361   \n",
       "2            -0.200467        -0.23861           -0.292053       -0.345462   \n",
       "3            -0.200467        -0.23861            4.406560       -0.270122   \n",
       "4            -0.200467        -0.23861           -0.292053       -0.324174   \n",
       "\n",
       "   SWM_Balance_1  Loan_Balance_1  FUA_Balance_1  Deposit_Balance_1  \\\n",
       "0       -0.19632       -0.130486      -0.398485          -0.239082   \n",
       "1       -0.19632       -0.130486       0.389649           1.246267   \n",
       "2       -0.19632       -0.130486      -0.391697          -0.225809   \n",
       "3       -0.19632       -0.130486       3.101202           0.163461   \n",
       "4       -0.19632        0.665292      -0.354598          -0.183795   \n",
       "\n",
       "   Number_Of_Products_1  Number_Of_Services_1  Number_Of_FA_1  AvgPAPAmt_1  \\\n",
       "0             -1.234815             -1.505169        0.848598    -0.142291   \n",
       "1              0.792509              0.321326       -0.342748    -0.142291   \n",
       "2             -1.234815             -1.505169       -0.541306    -0.142291   \n",
       "3              0.116734              0.321326        0.054367    -0.044704   \n",
       "4              0.116734              0.321326       -0.739863     0.261474   \n",
       "\n",
       "   CountPAPTrans_1  AvgBPAmt_1  CountBPTrans_1  AvgEDAmt_1  CountEDTrans_1  \\\n",
       "0        -0.635712   -0.222680       -0.697245    0.001099       -0.437301   \n",
       "1        -0.635712   -0.222680       -0.697245    0.001099       -0.437301   \n",
       "2        -0.635712   -0.136122       -0.430114    0.006219        1.183461   \n",
       "3        -0.037445   -0.222680       -0.697245    0.001099       -0.437301   \n",
       "4        -0.037445   -0.017929        0.104147    0.001099       -0.437301   \n",
       "\n",
       "   AvgMTAmt_1  CountMTTrans_1  Number_Of_Member_Initiated_Transactions_1  \\\n",
       "0    0.002226       -0.854590                                  -1.001678   \n",
       "1    0.002226       -0.854590                                  -0.892732   \n",
       "2    0.005981        4.145080                                   3.437881   \n",
       "3    0.002066        0.034921                                   0.087784   \n",
       "4    0.000852        0.679051                                   0.305677   \n",
       "\n",
       "   AvgPAAmt_1  CountPATrans_1  AvgMTDebitAmt_1  CountMTDebitTrans_1  \\\n",
       "0   -0.271483       -0.771129        -0.004751            -0.827201   \n",
       "1   -0.271483       -0.771129        -0.004751            -0.827201   \n",
       "2   -0.271483       -0.771129        -0.003797             4.516869   \n",
       "3    0.037835        0.511901        -0.004644             0.147503   \n",
       "4    0.274785        1.153415        -0.003835             0.853324   \n",
       "\n",
       "   AvgMTCreditAmt_1  CountMTCreditTrans_1  CreditDebitAmtRatio_1  \\\n",
       "0         -0.009773             -0.650751              -0.018308   \n",
       "1         -0.009773             -0.650751              -0.018308   \n",
       "2          0.000572              0.150151              -0.016861   \n",
       "3         -0.009773             -0.650751              -0.018308   \n",
       "4         -0.009773             -0.650751              -0.018308   \n",
       "\n",
       "   CreditDebitCountsRatio_1  CountLoanPayoffTrans_1  AvgLoanPayoffAmt_1  \\\n",
       "0                 -0.462997               -0.043173           -0.024073   \n",
       "1                 -0.462997               -0.043173           -0.024073   \n",
       "2                 -0.389205               -0.043173           -0.024073   \n",
       "3                 -0.462997               -0.043173           -0.024073   \n",
       "4                 -0.462997               -0.043173           -0.024073   \n",
       "\n",
       "   Unregistered_Demand_Balance_2  Unregistered_Term_Balance_2  \\\n",
       "0                      -0.250928                    -0.100543   \n",
       "1                      -0.251913                     1.773826   \n",
       "2                      -0.249030                    -0.100543   \n",
       "3                       0.400527                    -0.100543   \n",
       "4                      -0.156707                    -0.100543   \n",
       "\n",
       "   RRSP_RRIF_Balance_2  TFSA_Balance_2  Mortgage_Balance_2  Visa_Balance_2  \\\n",
       "0            -0.200062       -0.238405           -0.291719       -0.345650   \n",
       "1            -0.200062       -0.238405           -0.291719        0.454435   \n",
       "2            -0.200062       -0.238405           -0.291719       -0.345650   \n",
       "3            -0.200062       -0.238405            4.382403       -0.328941   \n",
       "4            -0.200062       -0.238405           -0.291719       -0.306685   \n",
       "\n",
       "   SWM_Balance_2  Loan_Balance_2  FUA_Balance_2  Deposit_Balance_2  \\\n",
       "0       -0.19671       -0.130662      -0.396263          -0.234573   \n",
       "1       -0.19671       -0.130662       0.397118           1.205301   \n",
       "2       -0.19671       -0.130662      -0.395786          -0.233705   \n",
       "3       -0.19671       -0.130662       3.009867           0.063390   \n",
       "4       -0.19671        0.631191      -0.358783          -0.191478   \n",
       "\n",
       "   Number_Of_Products_2  Number_Of_Services_2  Number_Of_FA_2  AvgPAPAmt_2  \\\n",
       "0             -1.238394             -1.513259        0.848503    -0.062280   \n",
       "1              0.791507              0.318988       -0.344234    -0.062280   \n",
       "2             -1.238394             -0.902510       -0.543023    -0.045796   \n",
       "3              0.114874              0.318988        0.053345    -0.022677   \n",
       "4              0.114874              0.318988       -0.741812    -0.050076   \n",
       "\n",
       "   CountPAPTrans_2  AvgBPAmt_2  CountBPTrans_2  AvgEDAmt_2  CountEDTrans_2  \\\n",
       "0        -0.638832   -0.268965       -0.701687   -0.034836       -0.442256   \n",
       "1        -0.638832   -0.268965       -0.701687   -0.034836       -0.442256   \n",
       "2         0.256516   -0.268965       -0.701687   -0.014457        1.173028   \n",
       "3        -0.041933   -0.268965       -0.701687   -0.034836       -0.442256   \n",
       "4        -0.340383   -0.161435        0.101570   -0.034836       -0.442256   \n",
       "\n",
       "   AvgMTAmt_2  CountMTTrans_2  Number_Of_Member_Initiated_Transactions_2  \\\n",
       "0   -0.008511       -0.862084                                  -0.900833   \n",
       "1   -0.008511       -0.862084                                  -0.819161   \n",
       "2   -0.001107        4.410918                                   3.591126   \n",
       "3   -0.012243       -0.494200                                  -0.574145   \n",
       "4    0.015754        0.517480                                   0.188127   \n",
       "\n",
       "   AvgPAAmt_2  CountPATrans_2  AvgMTDebitAmt_2  CountMTDebitTrans_2  \\\n",
       "0   -0.561819       -0.778605        -0.098557            -0.834323   \n",
       "1   -0.561819       -0.778605        -0.098557            -0.834323   \n",
       "2    0.255006        0.539997        -0.083740             4.704507   \n",
       "3   -0.047265        1.199298        -0.093671            -0.431499   \n",
       "4    0.590644        1.199298        -0.080272             0.642698   \n",
       "\n",
       "   AvgMTCreditAmt_2  CountMTCreditTrans_2  CreditDebitAmtRatio_2  \\\n",
       "0         -0.064848             -0.652003              -0.012207   \n",
       "1         -0.064848             -0.652003              -0.012207   \n",
       "2         -0.050359              0.745392              -0.011843   \n",
       "3         -0.064848             -0.652003              -0.012207   \n",
       "4         -0.035258             -0.452375              -0.011602   \n",
       "\n",
       "   CreditDebitCountsRatio_2  CountLoanPayoffTrans_2  AvgLoanPayoffAmt_2  \\\n",
       "0                 -0.473475               -0.043527           -0.026704   \n",
       "1                 -0.473475               -0.043527           -0.026704   \n",
       "2                 -0.371875               -0.043527           -0.026704   \n",
       "3                 -0.473475               -0.043527           -0.026704   \n",
       "4                 -0.422675               -0.043527           -0.026704   \n",
       "\n",
       "   Unregistered_Demand_Balance_3  Unregistered_Term_Balance_3  \\\n",
       "0                      -0.285155                    -0.099865   \n",
       "1                      -0.287980                     1.747871   \n",
       "2                      -0.288768                    -0.099865   \n",
       "3                       0.382542                    -0.099865   \n",
       "4                      -0.206411                    -0.099865   \n",
       "\n",
       "   RRSP_RRIF_Balance_3  TFSA_Balance_3  Mortgage_Balance_3  Visa_Balance_3  \\\n",
       "0            -0.200476       -0.237772           -0.291366       -0.347008   \n",
       "1            -0.200476       -0.237772           -0.291366        0.478011   \n",
       "2            -0.200476       -0.237772           -0.291366       -0.347008   \n",
       "3            -0.200476       -0.237772            4.364916        0.742056   \n",
       "4            -0.200476       -0.237772           -0.291366       -0.176878   \n",
       "\n",
       "   SWM_Balance_3  Loan_Balance_3  FUA_Balance_3  Deposit_Balance_3  \\\n",
       "0      -0.196591       -0.130586      -0.397433          -0.238751   \n",
       "1      -0.196591       -0.130586       0.389728           1.218727   \n",
       "2      -0.196591       -0.130586      -0.398140          -0.240230   \n",
       "3      -0.196591       -0.130586       2.996427           0.034363   \n",
       "4      -0.196591        0.601699      -0.365363          -0.206542   \n",
       "\n",
       "   Number_Of_Products_3  Number_Of_Services_3  Number_Of_FA_3  AvgPAPAmt_3  \\\n",
       "0             -1.246650             -1.524524        0.848172    -0.099674   \n",
       "1              0.787880              0.314315       -0.345865    -0.099674   \n",
       "2             -1.246650             -0.911578       -0.345865    -0.072356   \n",
       "3              0.109704              0.314315        0.052147    -0.034042   \n",
       "4              0.109704              0.314315       -0.743877    -0.079449   \n",
       "\n",
       "   CountPAPTrans_3  AvgBPAmt_3  CountBPTrans_3  AvgEDAmt_3  CountEDTrans_3  \\\n",
       "0        -0.637759   -0.310958       -0.705318   -0.064928       -0.443752   \n",
       "1        -0.637759   -0.310958       -0.705318   -0.064928       -0.443752   \n",
       "2        -0.042786   -0.310958       -0.705318   -0.064928       -0.443752   \n",
       "3        -0.042786   -0.145234        1.457479   -0.064928       -0.443752   \n",
       "4        -0.340272   -0.310958       -0.705318   -0.064928       -0.443752   \n",
       "\n",
       "   AvgMTAmt_3  CountMTTrans_3  Number_Of_Member_Initiated_Transactions_3  \\\n",
       "0   -0.002445       -0.864387                                  -0.798653   \n",
       "1   -0.002445       -0.864387                                  -0.718219   \n",
       "2   -0.002453        1.584271                                   1.104960   \n",
       "3   -0.002499       -0.441162                                  -0.637784   \n",
       "4   -0.002498        0.737821                                   0.381051   \n",
       "\n",
       "   AvgPAAmt_3  CountPATrans_3  AvgMTDebitAmt_3  CountMTDebitTrans_3  \\\n",
       "0   -0.546803       -0.779495        -0.004594            -0.836702   \n",
       "1   -0.546803       -0.779495        -0.004594            -0.836702   \n",
       "2    0.664280        0.532861        -0.004489             1.807308   \n",
       "3   -0.200170       -0.123317        -0.004324            -0.374000   \n",
       "4    0.697349        1.189039        -0.004271             0.881904   \n",
       "\n",
       "   AvgMTCreditAmt_3  CountMTCreditTrans_3  CreditDebitAmtRatio_3  \\\n",
       "0         -0.002803             -0.653425              -0.019850   \n",
       "1         -0.002803             -0.653425              -0.019850   \n",
       "2         -0.002793             -0.454040              -0.019542   \n",
       "3         -0.002803             -0.653425              -0.019850   \n",
       "4         -0.002794             -0.454040              -0.019761   \n",
       "\n",
       "   CreditDebitCountsRatio_3  CountLoanPayoffTrans_3  AvgLoanPayoffAmt_3  \\\n",
       "0                 -0.454390               -0.043769           -0.026314   \n",
       "1                 -0.454390               -0.043769           -0.026314   \n",
       "2                 -0.429645               -0.043769           -0.026314   \n",
       "3                 -0.454390               -0.043769           -0.026314   \n",
       "4                 -0.404900               -0.043769           -0.026314   \n",
       "\n",
       "   Unregistered_Demand_Balance_4  Unregistered_Term_Balance_4  \\\n",
       "0                      -0.067659                    -0.100178   \n",
       "1                      -0.068780                     1.757746   \n",
       "2                      -0.068958                    -0.100178   \n",
       "3                       0.087271                    -0.100178   \n",
       "4                      -0.047102                    -0.100178   \n",
       "\n",
       "   RRSP_RRIF_Balance_4  TFSA_Balance_4  Mortgage_Balance_4  Visa_Balance_4  \\\n",
       "0            -0.200129       -0.237567           -0.291223       -0.338151   \n",
       "1            -0.200129       -0.237567           -0.291223        0.465937   \n",
       "2            -0.200129       -0.237567           -0.291223       -0.338151   \n",
       "3            -0.200129       -0.237567            4.349127        1.176582   \n",
       "4            -0.200129       -0.237567           -0.291223       -0.338151   \n",
       "\n",
       "   SWM_Balance_4  Loan_Balance_4  FUA_Balance_4  Deposit_Balance_4  \\\n",
       "0      -0.196515       -0.129181      -0.296162          -0.120523   \n",
       "1      -0.196515       -0.129181       0.276683           0.597144   \n",
       "2      -0.196515       -0.129181      -0.295976          -0.121684   \n",
       "3      -0.196515       -0.129181       2.214390           0.017884   \n",
       "4      -0.196515        0.566946      -0.272141          -0.102159   \n",
       "\n",
       "   Number_Of_Products_4  Number_Of_Services_4  Number_Of_FA_4  AvgPAPAmt_4  \\\n",
       "0             -1.253537             -1.532662        0.849038    -0.077301   \n",
       "1              0.785271              0.310278       -0.346863    -0.077301   \n",
       "2             -1.253537             -0.918349       -0.346863     0.004682   \n",
       "3              0.105668              0.310278       -0.147546    -0.028834   \n",
       "4              0.105668              0.310278       -0.745497     0.129039   \n",
       "\n",
       "   CountPAPTrans_4  AvgBPAmt_4  CountBPTrans_4  AvgEDAmt_4  CountEDTrans_4  \\\n",
       "0        -0.641173   -0.167195       -0.705052   -0.061252       -0.443301   \n",
       "1        -0.641173   -0.167195       -0.705052   -0.061252       -0.443301   \n",
       "2         1.139333   -0.130890       -0.436296   -0.006984        1.130410   \n",
       "3        -0.047671   -0.107514        0.638729   -0.061252       -0.443301   \n",
       "4        -0.047671   -0.104865        0.369973   -0.061252       -0.443301   \n",
       "\n",
       "   AvgMTAmt_4  CountMTTrans_4  Number_Of_Member_Initiated_Transactions_4  \\\n",
       "0   -0.005911       -0.866061                                  -0.459769   \n",
       "1   -0.005911       -0.866061                                  -0.723757   \n",
       "2   -0.002086        2.233639                                   1.572939   \n",
       "3   -0.009811       -0.418989                                  -0.618161   \n",
       "4   -0.016446        0.952032                                   0.543386   \n",
       "\n",
       "   AvgPAAmt_4  CountPATrans_4  AvgMTDebitAmt_4  CountMTDebitTrans_4  \\\n",
       "0   -0.489319       -0.779091        -0.100667            -0.837910   \n",
       "1   -0.489319       -0.779091        -0.100667            -0.837910   \n",
       "2    0.635487        0.509239        -0.072550             2.416148   \n",
       "3    0.077285        1.797569        -0.090763            -0.349802   \n",
       "4    0.829430        1.797569        -0.072107             1.114525   \n",
       "\n",
       "   AvgMTCreditAmt_4  CountMTCreditTrans_4  CreditDebitAmtRatio_4  \\\n",
       "0         -0.042960             -0.658003              -0.012258   \n",
       "1         -0.042960             -0.658003              -0.012258   \n",
       "2         -0.028912              0.137629              -0.011783   \n",
       "3         -0.042960             -0.658003              -0.012258   \n",
       "4         -0.042289             -0.459095              -0.012237   \n",
       "\n",
       "   CreditDebitCountsRatio_4  CountLoanPayoffTrans_4  AvgLoanPayoffAmt_4  \\\n",
       "0                 -0.472856               -0.048877           -0.028645   \n",
       "1                 -0.472856               -0.048877           -0.028645   \n",
       "2                 -0.369455               -0.048877           -0.028645   \n",
       "3                 -0.472856               -0.048877           -0.028645   \n",
       "4                 -0.421156               -0.048877           -0.028645   \n",
       "\n",
       "   Unregistered_Demand_Balance_5  Unregistered_Term_Balance_5  \\\n",
       "0                      -0.280698                    -0.100445   \n",
       "1                      -0.284192                     1.769265   \n",
       "2                      -0.284941                    -0.100445   \n",
       "3                       0.356872                    -0.100445   \n",
       "4                      -0.195694                    -0.100445   \n",
       "\n",
       "   RRSP_RRIF_Balance_5  TFSA_Balance_5  Mortgage_Balance_5  Visa_Balance_5  \\\n",
       "0             -0.19974       -0.237123           -0.291391       -0.337639   \n",
       "1             -0.19974       -0.237123           -0.291391       -0.337639   \n",
       "2             -0.19974       -0.237123           -0.291391       -0.337639   \n",
       "3             -0.19974       -0.237123            4.337944        1.650945   \n",
       "4             -0.19974       -0.237123           -0.291391       -0.329588   \n",
       "\n",
       "   SWM_Balance_5  Loan_Balance_5  FUA_Balance_5  Deposit_Balance_5  \\\n",
       "0       -0.19659       -0.128086      -0.399251          -0.242757   \n",
       "1       -0.19659       -0.128086       0.352991           1.215977   \n",
       "2       -0.19659       -0.128086      -0.400142          -0.244585   \n",
       "3       -0.19659       -0.128086       2.990582           0.032040   \n",
       "4       -0.19659        0.536529      -0.367740          -0.206119   \n",
       "\n",
       "   Number_Of_Products_5  Number_Of_Services_5  Number_Of_FA_5  AvgPAPAmt_5  \\\n",
       "0             -1.257233             -1.534436        0.849461    -0.097487   \n",
       "1              0.785254              0.310266       -0.348689    -0.097487   \n",
       "2             -1.257233             -1.534436       -0.348689    -0.023756   \n",
       "3              0.104425              0.310266       -0.148997    -0.034818   \n",
       "4              0.104425              0.310266       -0.748072     0.169317   \n",
       "\n",
       "   CountPAPTrans_5  AvgBPAmt_5  CountBPTrans_5  AvgEDAmt_5  CountEDTrans_5  \\\n",
       "0        -0.634082   -0.002415       -0.704010   -0.055818       -0.449573   \n",
       "1        -0.634082   -0.002415       -0.704010   -0.055818       -0.449573   \n",
       "2         0.240695   -0.002415       -0.704010    0.022658        0.605908   \n",
       "3        -0.050897   -0.002415        1.197245   -0.055818       -0.449573   \n",
       "4        -0.050897   -0.002415       -0.160794   -0.055818       -0.449573   \n",
       "\n",
       "   AvgMTAmt_5  CountMTTrans_5  Number_Of_Member_Initiated_Transactions_5  \\\n",
       "0    0.002415       -0.863424                                  -0.537146   \n",
       "1    0.002415       -0.863424                                  -0.852225   \n",
       "2    0.002415        0.977902                                   0.539374   \n",
       "3    0.002415       -0.447641                                  -0.589659   \n",
       "4    0.002415        0.294829                                  -0.038271   \n",
       "\n",
       "   AvgPAAmt_5  CountPATrans_5  AvgMTDebitAmt_5  CountMTDebitTrans_5  \\\n",
       "0   -0.499678       -0.781355        -0.002416            -0.835807   \n",
       "1   -0.499678       -0.781355        -0.002416            -0.835807   \n",
       "2   -0.499678       -0.781355        -0.002415             1.110735   \n",
       "3    0.021319        1.204279        -0.002416            -0.381614   \n",
       "4    0.590290        1.204279        -0.002416             0.397003   \n",
       "\n",
       "   AvgMTCreditAmt_5  CountMTCreditTrans_5  CreditDebitAmtRatio_5  \\\n",
       "0         -0.089426             -0.650330              -0.011814   \n",
       "1         -0.089426             -0.650330              -0.011814   \n",
       "2         -0.045351             -0.257364              -0.011294   \n",
       "3         -0.089426             -0.650330              -0.011814   \n",
       "4         -0.086208             -0.453847              -0.011763   \n",
       "\n",
       "   CreditDebitCountsRatio_5  CountLoanPayoffTrans_5  AvgLoanPayoffAmt_5  \\\n",
       "0                 -0.446252               -0.048804           -0.028262   \n",
       "1                 -0.446252               -0.048804           -0.028262   \n",
       "2                 -0.373781               -0.048804           -0.028262   \n",
       "3                 -0.446252               -0.048804           -0.028262   \n",
       "4                 -0.373781               -0.048804           -0.028262   \n",
       "\n",
       "   Unregistered_Demand_Balance_6  Unregistered_Term_Balance_6  \\\n",
       "0                      -0.281305                    -0.101188   \n",
       "1                      -0.283411                     1.796224   \n",
       "2                      -0.284158                    -0.101188   \n",
       "3                       0.244672                    -0.101188   \n",
       "4                      -0.173261                    -0.101188   \n",
       "\n",
       "   RRSP_RRIF_Balance_6  TFSA_Balance_6  Mortgage_Balance_6  Visa_Balance_6  \\\n",
       "0            -0.199365       -0.236712           -0.290537       -0.357744   \n",
       "1            -0.199365       -0.236712           -0.290537       -0.357744   \n",
       "2            -0.199365       -0.236712           -0.290537       -0.357744   \n",
       "3            -0.199365       -0.236712            4.310680        1.738027   \n",
       "4            -0.199365       -0.236712           -0.290537       -0.278226   \n",
       "\n",
       "   SWM_Balance_6  Loan_Balance_6  FUA_Balance_6  Deposit_Balance_6  \\\n",
       "0      -0.196644       -0.126751      -0.399700          -0.245014   \n",
       "1      -0.196644       -0.126751       0.363480           1.229131   \n",
       "2      -0.196644       -0.126751      -0.400296          -0.246258   \n",
       "3      -0.196644       -0.126751       2.967097          -0.015623   \n",
       "4      -0.196644        0.500934      -0.363035          -0.197893   \n",
       "\n",
       "   Number_Of_Products_6  Number_Of_Services_6  Number_Of_FA_6  AvgPAPAmt_6  \\\n",
       "0             -1.260918             -1.534959        0.849563    -0.113433   \n",
       "1              0.783584              0.309462       -0.350214    -0.113433   \n",
       "2             -1.260918             -1.534959       -0.350214    -0.082693   \n",
       "3              0.102083              0.309462       -0.150251    -0.039579   \n",
       "4              0.102083              0.309462       -0.750140     0.200990   \n",
       "\n",
       "   CountPAPTrans_6  AvgBPAmt_6  CountBPTrans_6  AvgEDAmt_6  CountEDTrans_6  \\\n",
       "0        -0.640993   -0.290623       -0.701386   -0.047009       -0.445172   \n",
       "1        -0.640993   -0.290623       -0.701386   -0.047009       -0.445172   \n",
       "2        -0.058259   -0.162511       -0.429849    0.018059        0.604461   \n",
       "3        -0.058259   -0.088422        0.927838   -0.047009       -0.445172   \n",
       "4        -0.058259   -0.213259       -0.158312   -0.047009       -0.445172   \n",
       "\n",
       "   AvgMTAmt_6  CountMTTrans_6  Number_Of_Member_Initiated_Transactions_6  \\\n",
       "0   -0.009517       -0.858313                                  -0.711464   \n",
       "1   -0.009517       -0.858313                                  -0.816536   \n",
       "2    0.003569        1.827715                                   1.311156   \n",
       "3   -0.032333       -0.291263                                  -0.159841   \n",
       "4   -0.037360        0.574235                                   0.207908   \n",
       "\n",
       "   AvgPAAmt_6  CountPATrans_6  AvgMTDebitAmt_6  CountMTDebitTrans_6  \\\n",
       "0   -0.523515       -0.779726        -0.091088            -0.830680   \n",
       "1   -0.523515       -0.779726        -0.091088            -0.830680   \n",
       "2   -0.523515       -0.779726        -0.051949             2.037819   \n",
       "3   -0.056724        1.861536        -0.069840            -0.243942   \n",
       "4    0.712943        1.861536        -0.064958             0.701359   \n",
       "\n",
       "   AvgMTCreditAmt_6  CountMTCreditTrans_6  CreditDebitAmtRatio_6  \\\n",
       "0         -0.082143             -0.648049              -0.009009   \n",
       "1         -0.082143             -0.648049              -0.009009   \n",
       "2         -0.039989             -0.252367              -0.008838   \n",
       "3         -0.082069             -0.450208              -0.009009   \n",
       "4         -0.081888             -0.450208              -0.009008   \n",
       "\n",
       "   CreditDebitCountsRatio_6  CountLoanPayoffTrans_6  AvgLoanPayoffAmt_6  \n",
       "0                 -0.468365               -0.045986           -0.025884  \n",
       "1                 -0.468365               -0.045986           -0.025884  \n",
       "2                 -0.417664               -0.045986           -0.025884  \n",
       "3                 -0.316262               -0.045986           -0.025884  \n",
       "4                 -0.417664               -0.045986           -0.025884  "
      ]
     },
     "execution_count": 16,
     "metadata": {},
     "output_type": "execute_result"
    }
   ],
   "source": [
    "print(flattened_df.shape)\n",
    "flattened_df.head(5)"
   ]
  },
  {
   "cell_type": "code",
   "execution_count": 18,
   "metadata": {},
   "outputs": [],
   "source": [
    "df.to_csv('preprocessed_20180725_nn.csv', index=False)"
   ]
  },
  {
   "cell_type": "markdown",
   "metadata": {},
   "source": [
    "## 3.Build predictive model <a id='part-3'>"
   ]
  },
  {
   "cell_type": "markdown",
   "metadata": {},
   "source": [
    "### 3.1. Random Forest <a id='part-31'>"
   ]
  },
  {
   "cell_type": "markdown",
   "metadata": {},
   "source": [
    "Random forest is a powerful tree ensembling algorithm. Sometimes it works pretty well. Let's try random forest first. It can serve as a baseline compared to other tree based models such as gradient boosting machines."
   ]
  },
  {
   "cell_type": "code",
   "execution_count": 35,
   "metadata": {},
   "outputs": [],
   "source": [
    "# read the csv from local\n",
    "df = pd.read_csv('preprocessed_20180720_rf.csv')"
   ]
  },
  {
   "cell_type": "markdown",
   "metadata": {},
   "source": [
    "### 3.1a. Native, no subsampling, no train-valid-test split"
   ]
  },
  {
   "cell_type": "markdown",
   "metadata": {},
   "source": [
    "First, let us just use the default parameter to train on the whole traning set.\n",
    "Then we can get some feeling about how random forest work on our dataset."
   ]
  },
  {
   "cell_type": "code",
   "execution_count": 3,
   "metadata": {},
   "outputs": [],
   "source": [
    "# read the csv file for random forest from local\n",
    "df = pd.read_csv('preprocessed_20180720_rf.csv')"
   ]
  },
  {
   "cell_type": "code",
   "execution_count": 4,
   "metadata": {},
   "outputs": [],
   "source": [
    "m = RandomForestClassifier(n_jobs=-1, random_state=66)\n",
    "X_train = df.drop(['Unique_Client_ID','Gone'],axis=1).values\n",
    "y_train = df.Gone.values"
   ]
  },
  {
   "cell_type": "code",
   "execution_count": 5,
   "metadata": {},
   "outputs": [
    {
     "data": {
      "text/plain": [
       "RandomForestClassifier(bootstrap=True, class_weight=None, criterion='gini',\n",
       "            max_depth=None, max_features='auto', max_leaf_nodes=None,\n",
       "            min_impurity_decrease=0.0, min_impurity_split=None,\n",
       "            min_samples_leaf=1, min_samples_split=2,\n",
       "            min_weight_fraction_leaf=0.0, n_estimators=10, n_jobs=-1,\n",
       "            oob_score=False, random_state=66, verbose=0, warm_start=False)"
      ]
     },
     "execution_count": 5,
     "metadata": {},
     "output_type": "execute_result"
    }
   ],
   "source": [
    "m"
   ]
  },
  {
   "cell_type": "code",
   "execution_count": 6,
   "metadata": {},
   "outputs": [
    {
     "data": {
      "text/plain": [
       "RandomForestClassifier(bootstrap=True, class_weight=None, criterion='gini',\n",
       "            max_depth=None, max_features='auto', max_leaf_nodes=None,\n",
       "            min_impurity_decrease=0.0, min_impurity_split=None,\n",
       "            min_samples_leaf=1, min_samples_split=2,\n",
       "            min_weight_fraction_leaf=0.0, n_estimators=10, n_jobs=-1,\n",
       "            oob_score=False, random_state=66, verbose=0, warm_start=False)"
      ]
     },
     "execution_count": 6,
     "metadata": {},
     "output_type": "execute_result"
    }
   ],
   "source": [
    "m.fit(X_train, y_train)"
   ]
  },
  {
   "cell_type": "code",
   "execution_count": 7,
   "metadata": {},
   "outputs": [
    {
     "name": "stdout",
     "output_type": "stream",
     "text": [
      "train_auc 0.9997877104951344 train_score 0.9912640326578218\n"
     ]
    }
   ],
   "source": [
    "print(\"train_auc\", roc_auc_score(y_train, m.predict_proba(X_train)[:,1]), \"train_score\", m.score(X_train, y_train))"
   ]
  },
  {
   "cell_type": "code",
   "execution_count": 8,
   "metadata": {},
   "outputs": [
    {
     "data": {
      "text/plain": [
       "<matplotlib.collections.PathCollection at 0xb682eb8>"
      ]
     },
     "execution_count": 8,
     "metadata": {},
     "output_type": "execute_result"
    },
    {
     "data": {
      "image/png": "[encoded data removed]",
      "text/plain": [
       "<Figure size 432x288 with 1 Axes>"
      ]
     },
     "metadata": {},
     "output_type": "display_data"
    }
   ],
   "source": [
    "y_pred = m.predict_proba(X_train)[:,1]       \n",
    "fpr,tpr,threhold = roc_curve(y_train, y_pred)\n",
    "plt.scatter(fpr, tpr)"
   ]
  },
  {
   "cell_type": "code",
   "execution_count": 9,
   "metadata": {},
   "outputs": [
    {
     "data": {
      "text/plain": [
       "array([[154951,     16],\n",
       "       [  1482,  15026]], dtype=int64)"
      ]
     },
     "execution_count": 9,
     "metadata": {},
     "output_type": "execute_result"
    }
   ],
   "source": [
    "confusion_matrix(y_train, m.predict(X_train))"
   ]
  },
  {
   "cell_type": "code",
   "execution_count": 11,
   "metadata": {},
   "outputs": [
    {
     "name": "stdout",
     "output_type": "stream",
     "text": [
      "154951 16 1482 15026\n"
     ]
    }
   ],
   "source": [
    "tn, fp, fn, tp = confusion_matrix(y_train, m.predict(X_train)).ravel()\n",
    "print(tn, fp, fn, tp)"
   ]
  },
  {
   "cell_type": "markdown",
   "metadata": {},
   "source": [
    "### 3.1b. train-test split, no subsampling"
   ]
  },
  {
   "cell_type": "markdown",
   "metadata": {},
   "source": [
    "We split the dataset into training and testing dataset.\n",
    "Training dadtaset is used to train the model\n",
    "And testing dataset is used to evaluate the model.\n",
    "For now, we still just use default parameters of random forest."
   ]
  },
  {
   "cell_type": "code",
   "execution_count": 12,
   "metadata": {},
   "outputs": [
    {
     "name": "stdout",
     "output_type": "stream",
     "text": [
      "(137180, 80) (34295, 80) (137180,) (34295,)\n"
     ]
    }
   ],
   "source": [
    "data_id = df.Unique_Client_ID\n",
    "data_y = df.Gone\n",
    "X_train, X_test, y_train, y_test = train_test_split(df.drop(['Unique_Client_ID', 'Gone'],axis=1).values, data_y.values,\\\n",
    "                                                    test_size=0.2, random_state=66)\n",
    "print(X_train.shape, X_test.shape, y_train.shape, y_test.shape)"
   ]
  },
  {
   "cell_type": "code",
   "execution_count": 13,
   "metadata": {},
   "outputs": [
    {
     "data": {
      "text/plain": [
       "RandomForestClassifier(bootstrap=True, class_weight=None, criterion='gini',\n",
       "            max_depth=None, max_features='auto', max_leaf_nodes=None,\n",
       "            min_impurity_decrease=0.0, min_impurity_split=None,\n",
       "            min_samples_leaf=1, min_samples_split=2,\n",
       "            min_weight_fraction_leaf=0.0, n_estimators=10, n_jobs=-1,\n",
       "            oob_score=False, random_state=66, verbose=0, warm_start=False)"
      ]
     },
     "execution_count": 13,
     "metadata": {},
     "output_type": "execute_result"
    }
   ],
   "source": [
    "m = RandomForestClassifier(n_jobs=-1, random_state=66)\n",
    "m.fit(X_train, y_train)"
   ]
  },
  {
   "cell_type": "code",
   "execution_count": 14,
   "metadata": {},
   "outputs": [
    {
     "name": "stdout",
     "output_type": "stream",
     "text": [
      "{'train_auc': 0.9997858501732007, 'test_auc': 0.85084608858558, 'train_score': 0.9913398454585216, 'test_score': 0.9082956699227293}\n"
     ]
    }
   ],
   "source": [
    "print_score(m)"
   ]
  },
  {
   "cell_type": "code",
   "execution_count": 34,
   "metadata": {},
   "outputs": [],
   "source": [
    "y_pred = m.predict_proba(X_test)[:,1]"
   ]
  },
  {
   "cell_type": "code",
   "execution_count": 35,
   "metadata": {},
   "outputs": [
    {
     "data": {
      "text/plain": [
       "array([[30533,   439],\n",
       "       [ 2706,   617]], dtype=int64)"
      ]
     },
     "execution_count": 35,
     "metadata": {},
     "output_type": "execute_result"
    }
   ],
   "source": [
    "confusion_matrix(y_test, m.predict(X_test))"
   ]
  },
  {
   "cell_type": "code",
   "execution_count": 36,
   "metadata": {},
   "outputs": [
    {
     "data": {
      "image/png": "[encoded data removed]",
      "text/plain": [
       "<Figure size 432x288 with 1 Axes>"
      ]
     },
     "metadata": {},
     "output_type": "display_data"
    }
   ],
   "source": [
    "plotROC(y_test, y_pred)"
   ]
  },
  {
   "cell_type": "code",
   "execution_count": 37,
   "metadata": {},
   "outputs": [
    {
     "data": {
      "image/png": "[encoded data removed]",
      "text/plain": [
       "<Figure size 432x288 with 1 Axes>"
      ]
     },
     "metadata": {},
     "output_type": "display_data"
    }
   ],
   "source": [
    "plotPRC1(y_test, y_pred)"
   ]
  },
  {
   "cell_type": "markdown",
   "metadata": {},
   "source": [
    "### 3.1c. train-test split, subsampling"
   ]
  },
  {
   "cell_type": "markdown",
   "metadata": {},
   "source": [
    "We build each tree based on a subset of whole dataset"
   ]
  },
  {
   "cell_type": "markdown",
   "metadata": {},
   "source": [
    "### 3.2. XGBOOST <a id='part-32'>"
   ]
  },
  {
   "cell_type": "code",
   "execution_count": 2,
   "metadata": {},
   "outputs": [
    {
     "name": "stdout",
     "output_type": "stream",
     "text": [
      "(137180, 190) (34295, 190) (137180,) (34295,)\n"
     ]
    }
   ],
   "source": [
    "# read the csv file for random forest from local\n",
    "df = pd.read_csv('preprocessed_20180802_rf.csv')\n",
    "data_y = df.Gone\n",
    "X_train, X_test, y_train, y_test = train_test_split(df.drop(['Unique_Client_ID', 'Gone'],axis=1).values, data_y.values,\\\n",
    "                                                    test_size=0.2, random_state=66)\n",
    "print(X_train.shape, X_test.shape, y_train.shape, y_test.shape)"
   ]
  },
  {
   "cell_type": "code",
   "execution_count": 3,
   "metadata": {},
   "outputs": [],
   "source": [
    "m = xgb.XGBClassifier(n_jobs = -1,\n",
    "                      random_state=66,\n",
    "                      max_depth=7,\n",
    "                      subsample=0.9, colsample_bytree=0.9,\n",
    "                      n_estimators=200,\n",
    "                      #min_child_samples=20\n",
    "                     )\n",
    "# xgb_clf = xgb.XGBClassifier(n_jobs = -1, max_depth=6, eta=0.1, slient=1, objective='binary:logistic', \n",
    "#                            colsample_bytree=0.5, scale_pos_weight=2)"
   ]
  },
  {
   "cell_type": "code",
   "execution_count": 4,
   "metadata": {
    "scrolled": true
   },
   "outputs": [
    {
     "name": "stdout",
     "output_type": "stream",
     "text": [
      "Wall time: 2h 50min 12s\n",
      "AUC score:  0.9247340233996992\n"
     ]
    },
    {
     "data": {
      "image/png": "[encoded data removed]",
      "text/plain": [
       "<Figure size 432x288 with 1 Axes>"
      ]
     },
     "metadata": {},
     "output_type": "display_data"
    },
    {
     "data": {
      "image/png": "[encoded data removed]",
      "text/plain": [
       "<Figure size 432x288 with 2 Axes>"
      ]
     },
     "metadata": {},
     "output_type": "display_data"
    }
   ],
   "source": [
    "# native, train the model with all training data and predict on the test data\n",
    "y_pred = np.zeros(len(y_test))\n",
    "%time m.fit(X_train, y_train, eval_metric=['logloss', 'auc'],)\n",
    "y_pred += m.predict_proba(X_test)[:, 1]\n",
    "print('AUC score: ', roc_auc_score(y_test, y_pred))\n",
    "plotROC(y_test, y_pred)\n",
    "plotPRC1(y_test, y_pred)"
   ]
  },
  {
   "cell_type": "code",
   "execution_count": 5,
   "metadata": {},
   "outputs": [],
   "source": [
    "save_obj(m, 'xgb20180802')"
   ]
  },
  {
   "cell_type": "code",
   "execution_count": 6,
   "metadata": {},
   "outputs": [],
   "source": [
    "early_stopping_rounds = 50"
   ]
  },
  {
   "cell_type": "code",
   "execution_count": 7,
   "metadata": {
    "scrolled": true
   },
   "outputs": [
    {
     "name": "stdout",
     "output_type": "stream",
     "text": [
      "Training on cycle-0............\n",
      "Validation AUC score on cycle 0:  0.9220906815101342\n",
      "Test AUC score on cycle 0:  0.9208056355951026\n",
      "Training on cycle-1............\n",
      "Validation AUC score on cycle 1:  0.9210771095627046\n",
      "Test AUC score on cycle 1:  0.9198188250294238\n",
      "Training on cycle-2............\n",
      "Validation AUC score on cycle 2:  0.9214887544167583\n",
      "Test AUC score on cycle 2:  0.9201761998421375\n",
      "Training on cycle-3............\n",
      "Validation AUC score on cycle 3:  0.9223556560464755\n",
      "Test AUC score on cycle 3:  0.9209308639813255\n",
      "Training on cycle-4............\n",
      "Validation AUC score on cycle 4:  0.9217313877828786\n",
      "Test AUC score on cycle 4:  0.9209386127215211\n",
      "AUC score:  0.924747694217825\n"
     ]
    },
    {
     "data": {
      "image/png": "[encoded data removed]",
      "text/plain": [
       "<Figure size 432x288 with 1 Axes>"
      ]
     },
     "metadata": {},
     "output_type": "display_data"
    },
    {
     "name": "stdout",
     "output_type": "stream",
     "text": [
      "Wall time: 5h 44min 26s\n"
     ]
    },
    {
     "data": {
      "image/png": "[encoded data removed]",
      "text/plain": [
       "<Figure size 432x288 with 2 Axes>"
      ]
     },
     "metadata": {},
     "output_type": "display_data"
    }
   ],
   "source": [
    "%%time\n",
    "# k-fold (manually bagging approach, build each model based on 80% of training data)\n",
    "num_fold = 5\n",
    "y_pred = np.zeros(len(y_test))\n",
    "skf = StratifiedKFold(n_splits=num_fold, shuffle=True, random_state=66)\n",
    "for fold, (train_idx, valid_idx) in enumerate(skf.split(X_train, y_train)):\n",
    "    print(f'Training on cycle-{fold}............')\n",
    "    X_train_kfold, X_valid = X_train[train_idx], X_train[valid_idx]\n",
    "    y_train_kfold, y_valid = y_train[train_idx], y_train[valid_idx]\n",
    "    m = xgb.XGBClassifier(n_jobs = -1,random_state=66,max_depth=7,subsample=0.4, colsample_bytree=0.4,n_estimators=10000,)#min_child_samples=20)\n",
    "    m.fit(X_train_kfold, y_train_kfold, eval_metric=['logloss', 'auc'], eval_set=[(X_valid, y_valid)], early_stopping_rounds=early_stopping_rounds, verbose=False)\n",
    "    y_pred += m.predict_proba(X_test)[:, 1]\n",
    "    print(f'Validation AUC score on cycle {fold}: ', roc_auc_score(y_valid, m.predict_proba(X_valid)[:, 1]))\n",
    "    print(f'Test AUC score on cycle {fold}: ', roc_auc_score(y_test, m.predict_proba(X_test)[:, 1]))\n",
    "\n",
    "y_pred /= num_fold\n",
    "print('AUC score: ', roc_auc_score(y_test, y_pred))\n",
    "plotROC(y_test, y_pred)\n",
    "plotPRC1(y_test, y_pred)"
   ]
  },
  {
   "cell_type": "markdown",
   "metadata": {},
   "source": [
    "### 3.3. LightGBM <a id='part-33'>"
   ]
  },
  {
   "cell_type": "code",
   "execution_count": 3,
   "metadata": {},
   "outputs": [],
   "source": [
    "# read the csv file for random forest from local\n",
    "df = pd.read_pickle(f'{snapShotDate}_train.pickle')"
   ]
  },
  {
   "cell_type": "code",
   "execution_count": 4,
   "metadata": {},
   "outputs": [],
   "source": [
    "# # select top 100 important features to train the model\n",
    "# df = df[['Unique_Client_ID', 'Gone']+imp_cols[:100]]"
   ]
  },
  {
   "cell_type": "code",
   "execution_count": 22,
   "metadata": {},
   "outputs": [
    {
     "name": "stdout",
     "output_type": "stream",
     "text": [
      "(141779, 310) (35445, 310) (141779,) (35445,)\n"
     ]
    }
   ],
   "source": [
    "data_y = df.Gone\n",
    "X_train, X_test, y_train, y_test = train_test_split(df.drop(['Unique_Client_ID', 'Gone'],axis=1).values, data_y.values,\\\n",
    "                                                    test_size=0.2, random_state=66)\n",
    "print(X_train.shape, X_test.shape, y_train.shape, y_test.shape)"
   ]
  },
  {
   "cell_type": "code",
   "execution_count": 5,
   "metadata": {},
   "outputs": [],
   "source": [
    "# %%time\n",
    "# # Grid search to find the best hyper parameters\n",
    "# y_pred = np.zeros(len(y_test))\n",
    "# m_lgb = lgb.LGBMClassifier(n_jobs=-1, random_state=66,)\n",
    "# param_grid = {\n",
    "#     'max_depth': [6, 7],\n",
    "#     'learning_rate': [0.01],\n",
    "#     'n_estimators': [500],\n",
    "#     'min_child_samples': [20],\n",
    "#     'subsample': [0.5],\n",
    "#     'colsample_bytree': [0.5],\n",
    "# }\n",
    "\n",
    "# m = GridSearchCV(m_lgb, param_grid, cv=5)\n",
    "\n",
    "# m.fit(X_train, y_train)\n",
    "# print('Best parameters found by grid search are:', m.best_params_)\n",
    "\n",
    "# y_pred += m.predict_proba(X_test)[:, 1]\n",
    "# print('AUC score: ', roc_auc_score(y_test, y_pred))\n",
    "# plotROC(y_test, y_pred)\n",
    "# plotPRC1(y_test, y_pred)"
   ]
  },
  {
   "cell_type": "markdown",
   "metadata": {},
   "source": [
    "I manually did a grid search. It turns out that fitting each model can utilize most of the coputing resource. So it should not make a big difference if using the built-in grid search function."
   ]
  },
  {
   "cell_type": "code",
   "execution_count": 20,
   "metadata": {},
   "outputs": [
    {
     "name": "stdout",
     "output_type": "stream",
     "text": [
      "LGBMClassifier(boosting_type='gbdt', class_weight=None, colsample_bytree=0.5,\n",
      "        learning_rate=0.05, max_depth=8, min_child_samples=80,\n",
      "        min_child_weight=0.001, min_split_gain=0.0, n_estimators=800,\n",
      "        n_jobs=-1, num_leaves=63, objective=None, random_state=66,\n",
      "        reg_alpha=0.0, reg_lambda=0.0, silent=True, subsample=0.5,\n",
      "        subsample_for_bin=200000, subsample_freq=0)\n",
      "AUC score:  0.9296477342713465\n"
     ]
    },
    {
     "data": {
      "image/png": "[encoded data removed]",
      "text/plain": [
       "<Figure size 432x288 with 1 Axes>"
      ]
     },
     "metadata": {},
     "output_type": "display_data"
    },
    {
     "name": "stdout",
     "output_type": "stream",
     "text": [
      "Wall time: 17h 3min 50s\n"
     ]
    },
    {
     "data": {
      "image/png": "[encoded data removed]",
      "text/plain": [
       "<Figure size 432x288 with 2 Axes>"
      ]
     },
     "metadata": {},
     "output_type": "display_data"
    }
   ],
   "source": [
    "%%time\n",
    "# manual grid search\n",
    "param_grid = {\n",
    "    'max_depth': [6, 7, 8],\n",
    "    'learning_rate': [0.01, 0.03, 0.05],\n",
    "    'n_estimators': [200, 500, 800],\n",
    "    'min_child_samples': [20, 50, 80],\n",
    "    'bagging_ratio': [0.3, 0.5, 0.8],\n",
    "    'num_leaves': [24, 31, 63],\n",
    "}\n",
    "\n",
    "best_AUC = 0\n",
    "\n",
    "for max_depth in param_grid['max_depth']:\n",
    "    for learning_rate in param_grid['learning_rate']:\n",
    "        for n_estimators in param_grid['n_estimators']:\n",
    "            for min_child_samples in param_grid['min_child_samples']:\n",
    "                for bagging_ratio in param_grid['bagging_ratio']:\n",
    "                    for num_leaves in param_grid['num_leaves']:\n",
    "                        m = lgb.LGBMClassifier(n_jobs=-1, random_state=66,\n",
    "                                               learning_rate=learning_rate,\n",
    "                                               max_depth=max_depth,\n",
    "                                               num_leaves=num_leaves,\n",
    "                                               subsample=bagging_ratio, colsample_bytree=bagging_ratio,\n",
    "                                               n_estimators=n_estimators,\n",
    "                                               min_child_samples=min_child_samples)\n",
    "                        y_pred = np.zeros(len(y_test))\n",
    "                        m.fit(X_train, y_train, eval_metric=['auc'],)\n",
    "                        y_pred += m.predict_proba(X_test)[:, 1]\n",
    "                        if roc_auc_score(y_test, y_pred) > best_AUC:\n",
    "                            best_AUC = roc_auc_score(y_test, y_pred)\n",
    "                            best_m = m\n",
    "                        \n",
    "print(best_m)\n",
    "y_pred = np.zeros(len(y_test))\n",
    "y_pred += best_m.predict_proba(X_test)[:, 1]\n",
    "print('AUC score: ', roc_auc_score(y_test, y_pred))\n",
    "plotROC(y_test, y_pred)\n",
    "plotPRC1(y_test, y_pred)"
   ]
  },
  {
   "cell_type": "code",
   "execution_count": 22,
   "metadata": {},
   "outputs": [],
   "source": [
    "save_obj(best_m, f'lgbm{snapShotDate}')"
   ]
  },
  {
   "cell_type": "markdown",
   "metadata": {},
   "source": [
    "(Optional, you may want to stop here.) Build the model with the best set of parameters found above and train the model with all data instead of only the training data. This step is optional. I don't think it will make much difference."
   ]
  },
  {
   "cell_type": "code",
   "execution_count": 23,
   "metadata": {},
   "outputs": [],
   "source": [
    "m = lgb.LGBMClassifier(n_jobs=-1, random_state=66,\n",
    "                       learning_rate=0.05,\n",
    "                       max_depth=8,\n",
    "                       subsample=0.5, colsample_bytree=0.5,\n",
    "                       num_leaves = 63,\n",
    "                       n_estimators=800,\n",
    "                       min_child_samples=80)"
   ]
  },
  {
   "cell_type": "code",
   "execution_count": 24,
   "metadata": {
    "scrolled": true
   },
   "outputs": [
    {
     "name": "stdout",
     "output_type": "stream",
     "text": [
      "Wall time: 1min 57s\n",
      "AUC score:  0.9296977808669533\n"
     ]
    },
    {
     "data": {
      "image/png": "[encoded data removed]",
      "text/plain": [
       "<Figure size 432x288 with 1 Axes>"
      ]
     },
     "metadata": {},
     "output_type": "display_data"
    },
    {
     "data": {
      "image/png": "[encoded data removed]",
      "text/plain": [
       "<Figure size 432x288 with 2 Axes>"
      ]
     },
     "metadata": {},
     "output_type": "display_data"
    }
   ],
   "source": [
    "# native, train the model with all training data and predict on the test data\n",
    "y_pred = np.zeros(len(y_test))\n",
    "%time m.fit(X_train, y_train, eval_metric=['logloss', 'auc'],)\n",
    "y_pred += m.predict_proba(X_test)[:, 1]\n",
    "print('AUC score: ', roc_auc_score(y_test, y_pred))\n",
    "plotROC(y_test, y_pred)\n",
    "plotPRC1(y_test, y_pred)"
   ]
  },
  {
   "cell_type": "code",
   "execution_count": 25,
   "metadata": {},
   "outputs": [],
   "source": [
    "save_obj(m, f'lgbm{snapShotDate}')"
   ]
  },
  {
   "cell_type": "markdown",
   "metadata": {},
   "source": [
    "### 3.3. END ! The code below is only for the experimenting purpose. <a id='part-33end'>"
   ]
  },
  {
   "cell_type": "code",
   "execution_count": 26,
   "metadata": {},
   "outputs": [
    {
     "name": "stdout",
     "output_type": "stream",
     "text": [
      "Plot feature importances...\n"
     ]
    },
    {
     "data": {
      "text/plain": [
       "<matplotlib.axes._subplots.AxesSubplot at 0xdfd07b00>"
      ]
     },
     "execution_count": 26,
     "metadata": {},
     "output_type": "execute_result"
    },
    {
     "data": {
      "image/png": "[encoded data removed]",
      "text/plain": [
       "<Figure size 864x576 with 1 Axes>"
      ]
     },
     "metadata": {},
     "output_type": "display_data"
    }
   ],
   "source": [
    "plotFI(m, df.columns[2:], max_num_features=30, importance_type='split')"
   ]
  },
  {
   "cell_type": "code",
   "execution_count": 27,
   "metadata": {},
   "outputs": [],
   "source": [
    "imp_cols = [col for imp,col in sorted(zip(m.feature_importances_, df.columns[2:]),reverse=True)]"
   ]
  },
  {
   "cell_type": "code",
   "execution_count": 29,
   "metadata": {},
   "outputs": [],
   "source": [
    "save_obj(imp_cols, f'imp_cols_{snapShotDate}')"
   ]
  },
  {
   "cell_type": "markdown",
   "metadata": {},
   "source": [
    "**** NOTE: The souce code of lightgbm.plotting has been modified. The original source code file (plotting_original.py) is still in the folder. If you want to use the original one, simple change the name of it back to plotting.py ****"
   ]
  },
  {
   "cell_type": "code",
   "execution_count": 15,
   "metadata": {},
   "outputs": [],
   "source": [
    "print('Plot 84th tree...')  # one tree use categorical feature to split\n",
    "ax = lgb.plot_tree(m.booster_, tree_index=83, figsize=(100, 50), show_info=['split_gain'], feature_names = df.columns[2:])\n",
    "plt.show()"
   ]
  },
  {
   "cell_type": "code",
   "execution_count": 19,
   "metadata": {},
   "outputs": [
    {
     "name": "stdout",
     "output_type": "stream",
     "text": [
      "Plot 84th tree with graphviz...\n"
     ]
    },
    {
     "data": {
      "text/plain": [
       "'Tree84.gv.pdf'"
      ]
     },
     "execution_count": 19,
     "metadata": {},
     "output_type": "execute_result"
    }
   ],
   "source": [
    "print('Plot 84th tree with graphviz...')\n",
    "graph = lgb.create_tree_digraph(m.booster_, tree_index=83, name='Tree84', feature_names=df.columns[2:])\n",
    "graph.render(view=True)"
   ]
  },
  {
   "cell_type": "code",
   "execution_count": 9,
   "metadata": {},
   "outputs": [],
   "source": [
    "early_stopping_rounds = 500\n",
    "# lgb_clf = lgb.LGBMClassifier(boosting_type='gbdt', num_leaves=7, max_depth=4, learning_rate=0.05, n_estimators=100, \n",
    "#                              subsample_for_bin=200000, objective='binary', class_weight=None, \n",
    "#                              min_split_gain=0.0, min_child_weight=0, \n",
    "#                              min_child_samples=20, subsample=0.9, \n",
    "#                              subsample_freq=1, colsample_bytree=0.7, \n",
    "#                              reg_alpha=0.0, reg_lambda=0.0, random_state=66, n_jobs=-1,\n",
    "#                              max_bin=100, verbose=0, scale_pos_weight=150, metric='auc', nthread=4)"
   ]
  },
  {
   "cell_type": "markdown",
   "metadata": {},
   "source": [
    "Here I did a k-fold cross validation. From the result we can see that the model works equally on training folds and validation fold. So the model trained with only the training folds should work as well as the model trained with all folds."
   ]
  },
  {
   "cell_type": "code",
   "execution_count": 10,
   "metadata": {
    "scrolled": true
   },
   "outputs": [
    {
     "name": "stdout",
     "output_type": "stream",
     "text": [
      "Training on cycle-0............\n",
      "Validation AUC score on cycle 0:  0.92332790218109\n",
      "Test AUC score on cycle 0:  0.9225483831337822\n",
      "Training on cycle-1............\n",
      "Validation AUC score on cycle 1:  0.9224326650356848\n",
      "Test AUC score on cycle 1:  0.9231933309415717\n",
      "Training on cycle-2............\n",
      "Validation AUC score on cycle 2:  0.9234060580476205\n",
      "Test AUC score on cycle 2:  0.9226139875147245\n",
      "Training on cycle-3............\n",
      "Validation AUC score on cycle 3:  0.9235806433593363\n",
      "Test AUC score on cycle 3:  0.9237049129713969\n",
      "Training on cycle-4............\n",
      "Validation AUC score on cycle 4:  0.9237182533462095\n",
      "Test AUC score on cycle 4:  0.9232185349943213\n",
      "Wall time: 7min 31s\n"
     ]
    }
   ],
   "source": [
    "%%time\n",
    "# k-fold (manually bagging approach, build each model based on 80% of training data)\n",
    "num_fold = 5\n",
    "y_pred = np.zeros(len(y_test))\n",
    "skf = StratifiedKFold(n_splits=num_fold, shuffle=True, random_state=66)\n",
    "for fold, (train_idx, valid_idx) in enumerate(skf.split(X_train, y_train)):\n",
    "    print(f'Training on cycle-{fold}............')\n",
    "    X_train_kfold, X_valid = X_train[train_idx], X_train[valid_idx]\n",
    "    y_train_kfold, y_valid = y_train[train_idx], y_train[valid_idx]\n",
    "    m = lgb.LGBMClassifier(n_jobs=-1, random_state=66, max_depth=7,\n",
    "                           subsample=0.4, colsample_bytree=0.4,\n",
    "                           n_estimators=10000, min_child_samples=20)\n",
    "    m.fit(X_train_kfold, y_train_kfold,\\\n",
    "          eval_metric=['auc', 'logloss'], eval_set=[(X_valid, y_valid)],\\\n",
    "          early_stopping_rounds=early_stopping_rounds, verbose=False)\n",
    "    y_pred += m.predict_proba(X_test)[:, 1]\n",
    "    print(f'Validation AUC score on cycle {fold}: ', roc_auc_score(y_valid, m.predict_proba(X_valid)[:, 1]))\n",
    "    print(f'Test AUC score on cycle {fold}: ', roc_auc_score(y_test, m.predict_proba(X_test)[:, 1]))\n",
    "y_pred /= num_fold"
   ]
  },
  {
   "cell_type": "code",
   "execution_count": 11,
   "metadata": {
    "scrolled": true
   },
   "outputs": [
    {
     "name": "stdout",
     "output_type": "stream",
     "text": [
      "AUC score:  0.9262508040714669\n"
     ]
    },
    {
     "data": {
      "image/png": "[encoded data removed]",
      "text/plain": [
       "<Figure size 432x288 with 1 Axes>"
      ]
     },
     "metadata": {},
     "output_type": "display_data"
    },
    {
     "data": {
      "image/png": "[encoded data removed]",
      "text/plain": [
       "<Figure size 432x288 with 2 Axes>"
      ]
     },
     "metadata": {},
     "output_type": "display_data"
    }
   ],
   "source": [
    "print('AUC score: ', roc_auc_score(y_test, y_pred))\n",
    "plotROC(y_test, y_pred)\n",
    "plotPRC1(y_test, y_pred)"
   ]
  },
  {
   "cell_type": "code",
   "execution_count": 25,
   "metadata": {},
   "outputs": [
    {
     "data": {
      "text/plain": [
       "array([[28975,  1997],\n",
       "       [ 1218,  2105]], dtype=int64)"
      ]
     },
     "execution_count": 25,
     "metadata": {},
     "output_type": "execute_result"
    }
   ],
   "source": [
    "y_pred_label = (y_pred>=0.30).astype(np.int)\n",
    "confusion_matrix(y_test, y_pred_label)"
   ]
  },
  {
   "cell_type": "code",
   "execution_count": 32,
   "metadata": {},
   "outputs": [
    {
     "name": "stdout",
     "output_type": "stream",
     "text": [
      "Training on cycle-0............\n",
      "Validation AUC score on cycle 0:  0.9211625219503807\n",
      "Training on cycle-1............\n",
      "Validation AUC score on cycle 1:  0.9219431286733875\n",
      "Training on cycle-2............\n",
      "Validation AUC score on cycle 2:  0.9267561794643729\n",
      "Training on cycle-3............\n",
      "Validation AUC score on cycle 3:  0.9256273316077381\n",
      "Training on cycle-4............\n",
      "Validation AUC score on cycle 4:  0.9251339874627267\n"
     ]
    }
   ],
   "source": [
    "# train on whole training dataset and save the models onto the disk\n",
    "y_train = df.Gone.values\n",
    "X_train = df.drop(['Unique_Client_ID', 'Gone'], axis=1).values\n",
    "# k-fold (manually bagging approach, build each model based on 80% of training data)\n",
    "num_fold = 5\n",
    "skf = StratifiedKFold(n_splits=num_fold, shuffle=True, random_state=66)\n",
    "for fold, (train_idx, valid_idx) in enumerate(skf.split(X_train, y_train)):\n",
    "    print(f'Training on cycle-{fold}............')\n",
    "    X_train_kfold, X_valid = X_train[train_idx], X_train[valid_idx]\n",
    "    y_train_kfold, y_valid = y_train[train_idx], y_train[valid_idx]\n",
    "    m = lgb.LGBMClassifier(n_jobs=-1, random_state=66,\n",
    "                       max_depth=7,\n",
    "                       subsample=0.4, colsample_bytree=0.4,\n",
    "                       n_estimators=10000,\n",
    "                       min_child_samples=20)\n",
    "    early_stopping_rounds = 500\n",
    "    m.fit(X_train_kfold, y_train_kfold,\\\n",
    "          eval_metric=['auc', 'logloss'], eval_set=[(X_valid, y_valid)],\\\n",
    "          early_stopping_rounds=early_stopping_rounds, verbose=False)\n",
    "    save_obj(m, f'lgbm20180727_fold{fold}')\n",
    "    print(f'Validation AUC score on cycle {fold}: ', roc_auc_score(y_valid, m.predict_proba(X_valid)[:, 1]))"
   ]
  },
  {
   "cell_type": "markdown",
   "metadata": {},
   "source": [
    "### 3.4. Neural network <a id='part-34'>"
   ]
  },
  {
   "cell_type": "code",
   "execution_count": 48,
   "metadata": {},
   "outputs": [
    {
     "name": "stdout",
     "output_type": "stream",
     "text": [
      "(137134, 210) (34284, 210) (137134,) (34284,)\n"
     ]
    }
   ],
   "source": [
    "df = pd.read_csv('preprocessed_20180725_nn.csv')\n",
    "# this might need to be changed\n",
    "df = df.fillna(-1)\n",
    "data_y = df.Gone\n",
    "X_train, X_test, y_train, y_test = train_test_split(df.drop(['Unique_Client_ID', 'Gone'],axis=1).values, data_y.values,\\\n",
    "                                                    test_size=0.2, random_state=66)\n",
    "print(X_train.shape, X_test.shape, y_train.shape, y_test.shape)"
   ]
  },
  {
   "cell_type": "markdown",
   "metadata": {},
   "source": [
    "### 3.4a. Sklearn multi-layer perceptron <a id='part-34a'>"
   ]
  },
  {
   "cell_type": "code",
   "execution_count": 79,
   "metadata": {},
   "outputs": [],
   "source": [
    "clf = MLPClassifier(solver='lbfgs', alpha=1e-5, hidden_layer_sizes=(100, 2), random_state=66)"
   ]
  },
  {
   "cell_type": "code",
   "execution_count": 80,
   "metadata": {},
   "outputs": [
    {
     "name": "stdout",
     "output_type": "stream",
     "text": [
      "Wall time: 2min 41s\n"
     ]
    },
    {
     "data": {
      "text/plain": [
       "MLPClassifier(activation='relu', alpha=1e-05, batch_size='auto', beta_1=0.9,\n",
       "       beta_2=0.999, early_stopping=False, epsilon=1e-08,\n",
       "       hidden_layer_sizes=(100, 2), learning_rate='constant',\n",
       "       learning_rate_init=0.001, max_iter=200, momentum=0.9,\n",
       "       nesterovs_momentum=True, power_t=0.5, random_state=66, shuffle=True,\n",
       "       solver='lbfgs', tol=0.0001, validation_fraction=0.1, verbose=False,\n",
       "       warm_start=False)"
      ]
     },
     "execution_count": 80,
     "metadata": {},
     "output_type": "execute_result"
    }
   ],
   "source": [
    "%time clf.fit(X_train, y_train)"
   ]
  },
  {
   "cell_type": "code",
   "execution_count": 81,
   "metadata": {
    "scrolled": true
   },
   "outputs": [
    {
     "name": "stdout",
     "output_type": "stream",
     "text": [
      "AUC score:  0.8852649528921291\n"
     ]
    },
    {
     "data": {
      "image/png": "[encoded data removed]",
      "text/plain": [
       "<Figure size 432x288 with 1 Axes>"
      ]
     },
     "metadata": {},
     "output_type": "display_data"
    },
    {
     "data": {
      "image/png": "[encoded data removed]",
      "text/plain": [
       "<Figure size 432x288 with 1 Axes>"
      ]
     },
     "metadata": {},
     "output_type": "display_data"
    }
   ],
   "source": [
    "y_pred = clf.predict_proba(X_test)[:,1]\n",
    "print('AUC score: ', roc_auc_score(y_test, y_pred))\n",
    "plotROC(y_test, y_pred)\n",
    "plotPRC1(y_test, y_pred)"
   ]
  },
  {
   "cell_type": "markdown",
   "metadata": {},
   "source": [
    "### 3.4(b). Neural network with Keras <a id='part-34b'>"
   ]
  },
  {
   "cell_type": "code",
   "execution_count": 66,
   "metadata": {},
   "outputs": [],
   "source": [
    "import keras\n",
    "from keras.utils import *\n",
    "from keras.models import Sequential\n",
    "from keras.layers import Dense, Dropout, Activation"
   ]
  },
  {
   "cell_type": "code",
   "execution_count": 68,
   "metadata": {},
   "outputs": [],
   "source": [
    "model = Sequential()\n",
    "model.add(Dense(units=200, activation='relu', input_dim=80))\n",
    "model.add(Dropout(0.5))\n",
    "model.add(Dense(units=100, activation='relu', input_dim=100))\n",
    "model.add(Dropout(0.5))\n",
    "model.add(Dense(units=100, activation='relu', input_dim=100))\n",
    "model.add(Dropout(0.5))\n",
    "model.add(Dense(units=2, activation='sigmoid'))"
   ]
  },
  {
   "cell_type": "code",
   "execution_count": 69,
   "metadata": {},
   "outputs": [],
   "source": [
    "model.compile(loss=keras.losses.categorical_crossentropy,\n",
    "              optimizer=keras.optimizers.SGD(lr=0.01, momentum=0.9, nesterov=True),\n",
    "              #metrics=[]\n",
    "             )"
   ]
  },
  {
   "cell_type": "code",
   "execution_count": 70,
   "metadata": {
    "scrolled": true
   },
   "outputs": [
    {
     "name": "stdout",
     "output_type": "stream",
     "text": [
      "Epoch 1/30\n",
      "137180/137180 [==============================] - 27s 200us/step - loss: 0.2637\n",
      "Epoch 2/30\n",
      "137180/137180 [==============================] - 21s 149us/step - loss: 0.2416\n",
      "Epoch 3/30\n",
      "137180/137180 [==============================] - 20s 142us/step - loss: 0.2353\n",
      "Epoch 4/30\n",
      "137180/137180 [==============================] - 18s 132us/step - loss: 0.2323\n",
      "Epoch 5/30\n",
      "137180/137180 [==============================] - 15s 110us/step - loss: 0.2301\n",
      "Epoch 6/30\n",
      "137180/137180 [==============================] - 15s 110us/step - loss: 0.2279\n",
      "Epoch 7/30\n",
      "137180/137180 [==============================] - 15s 110us/step - loss: 0.2256\n",
      "Epoch 8/30\n",
      "137180/137180 [==============================] - 15s 109us/step - loss: 0.2243\n",
      "Epoch 9/30\n",
      "137180/137180 [==============================] - 15s 112us/step - loss: 0.2234\n",
      "Epoch 10/30\n",
      "137180/137180 [==============================] - 15s 113us/step - loss: 0.2223\n",
      "Epoch 11/30\n",
      "137180/137180 [==============================] - 15s 111us/step - loss: 0.2219\n",
      "Epoch 12/30\n",
      "137180/137180 [==============================] - 22s 159us/step - loss: 0.2210\n",
      "Epoch 13/30\n",
      "137180/137180 [==============================] - 17s 124us/step - loss: 0.2201\n",
      "Epoch 14/30\n",
      "137180/137180 [==============================] - 16s 113us/step - loss: 0.2203\n",
      "Epoch 15/30\n",
      "137180/137180 [==============================] - 16s 114us/step - loss: 0.2197\n",
      "Epoch 16/30\n",
      "137180/137180 [==============================] - 16s 116us/step - loss: 0.2187\n",
      "Epoch 17/30\n",
      "137180/137180 [==============================] - 16s 116us/step - loss: 0.2182\n",
      "Epoch 18/30\n",
      "137180/137180 [==============================] - 16s 115us/step - loss: 0.2182\n",
      "Epoch 19/30\n",
      "137180/137180 [==============================] - 16s 116us/step - loss: 0.2170\n",
      "Epoch 20/30\n",
      "137180/137180 [==============================] - 16s 114us/step - loss: 0.2169\n",
      "Epoch 21/30\n",
      "137180/137180 [==============================] - 16s 115us/step - loss: 0.2175\n",
      "Epoch 22/30\n",
      "137180/137180 [==============================] - 16s 115us/step - loss: 0.2168\n",
      "Epoch 23/30\n",
      "137180/137180 [==============================] - 16s 120us/step - loss: 0.2160\n",
      "Epoch 24/30\n",
      "137180/137180 [==============================] - 16s 115us/step - loss: 0.2156\n",
      "Epoch 25/30\n",
      "137180/137180 [==============================] - 16s 116us/step - loss: 0.2155\n",
      "Epoch 26/30\n",
      "137180/137180 [==============================] - 15s 111us/step - loss: 0.2153\n",
      "Epoch 27/30\n",
      "137180/137180 [==============================] - 15s 112us/step - loss: 0.2146\n",
      "Epoch 28/30\n",
      "137180/137180 [==============================] - 15s 110us/step - loss: 0.2147\n",
      "Epoch 29/30\n",
      "137180/137180 [==============================] - 15s 109us/step - loss: 0.2148\n",
      "Epoch 30/30\n",
      "137180/137180 [==============================] - 15s 108us/step - loss: 0.2142\n",
      "Wall time: 8min 17s\n"
     ]
    },
    {
     "data": {
      "text/plain": [
       "<keras.callbacks.History at 0x1e87aac8>"
      ]
     },
     "execution_count": 70,
     "metadata": {},
     "output_type": "execute_result"
    }
   ],
   "source": [
    "%time model.fit(X_train, to_categorical(y_train),\\\n",
    "                epochs=30, batch_size=32,)\n",
    "                #validation_split=0.1,)"
   ]
  },
  {
   "cell_type": "code",
   "execution_count": 71,
   "metadata": {
    "scrolled": true
   },
   "outputs": [
    {
     "name": "stdout",
     "output_type": "stream",
     "text": [
      "AUC score:  0.8927508820543998\n"
     ]
    },
    {
     "data": {
      "image/png": "[encoded data removed]",
      "text/plain": [
       "<Figure size 432x288 with 1 Axes>"
      ]
     },
     "metadata": {},
     "output_type": "display_data"
    },
    {
     "data": {
      "image/png": "[encoded data removed]",
      "text/plain": [
       "<Figure size 432x288 with 1 Axes>"
      ]
     },
     "metadata": {},
     "output_type": "display_data"
    }
   ],
   "source": [
    "y_pred = model.predict_proba(X_test)[:,1]\n",
    "print('AUC score: ', roc_auc_score(y_test, y_pred))\n",
    "plotROC(y_test, y_pred)\n",
    "plotPRC1(y_test, y_pred)"
   ]
  },
  {
   "cell_type": "markdown",
   "metadata": {},
   "source": [
    "### 3.4c. autoencoding with Keras, then feed the encoded data into tree emsembling based model <a id='part-34c'>"
   ]
  },
  {
   "cell_type": "markdown",
   "metadata": {},
   "source": [
    "Todo. I didn't try this one. Some kagglers applied this method to classification problem and it works well."
   ]
  },
  {
   "cell_type": "markdown",
   "metadata": {},
   "source": [
    "### 3.5. Logistic regression <a id='part-35'>"
   ]
  },
  {
   "cell_type": "code",
   "execution_count": 2,
   "metadata": {},
   "outputs": [
    {
     "name": "stdout",
     "output_type": "stream",
     "text": [
      "(137134, 210) (34284, 210) (137134,) (34284,)\n"
     ]
    }
   ],
   "source": [
    "df = pd.read_csv('preprocessed_20180725_nn.csv')\n",
    "# this might need to be changed\n",
    "df = df.fillna(-1)\n",
    "data_id = df.Unique_Client_ID\n",
    "data_y = df.Gone\n",
    "X_train, X_test, y_train, y_test = train_test_split(df.drop(['Unique_Client_ID', 'Gone'],axis=1).values, data_y.values,\\\n",
    "                                                    test_size=0.2, random_state=66)\n",
    "print(X_train.shape, X_test.shape, y_train.shape, y_test.shape)"
   ]
  },
  {
   "cell_type": "code",
   "execution_count": 3,
   "metadata": {},
   "outputs": [],
   "source": [
    "clf = LogisticRegression(solver='lbfgs', random_state=66)"
   ]
  },
  {
   "cell_type": "code",
   "execution_count": 4,
   "metadata": {},
   "outputs": [
    {
     "name": "stdout",
     "output_type": "stream",
     "text": [
      "Wall time: 7.45 s\n"
     ]
    },
    {
     "data": {
      "text/plain": [
       "LogisticRegression(C=1.0, class_weight=None, dual=False, fit_intercept=True,\n",
       "          intercept_scaling=1, max_iter=100, multi_class='ovr', n_jobs=1,\n",
       "          penalty='l2', random_state=66, solver='lbfgs', tol=0.0001,\n",
       "          verbose=0, warm_start=False)"
      ]
     },
     "execution_count": 4,
     "metadata": {},
     "output_type": "execute_result"
    }
   ],
   "source": [
    "%time clf.fit(X_train, y_train)"
   ]
  },
  {
   "cell_type": "code",
   "execution_count": 5,
   "metadata": {
    "scrolled": true
   },
   "outputs": [
    {
     "name": "stdout",
     "output_type": "stream",
     "text": [
      "AUC score:  0.8730613893934956\n"
     ]
    },
    {
     "data": {
      "image/png": "[encoded data removed]",
      "text/plain": [
       "<Figure size 432x288 with 1 Axes>"
      ]
     },
     "metadata": {},
     "output_type": "display_data"
    },
    {
     "data": {
      "image/png": "[encoded data removed]",
      "text/plain": [
       "<Figure size 432x288 with 1 Axes>"
      ]
     },
     "metadata": {},
     "output_type": "display_data"
    }
   ],
   "source": [
    "y_pred = clf.predict_proba(X_test)[:,1]\n",
    "print('AUC score: ', roc_auc_score(y_test, y_pred))\n",
    "plotROC(y_test, y_pred)\n",
    "plotPRC1(y_test, y_pred)"
   ]
  },
  {
   "cell_type": "markdown",
   "metadata": {},
   "source": [
    "### 3.6. Ensemble different models <a id='part-36'>"
   ]
  },
  {
   "cell_type": "code",
   "execution_count": null,
   "metadata": {},
   "outputs": [],
   "source": [
    "# read the csv file for random forest from local\n",
    "df = pd.read_csv('preprocessed_20180727_rf.csv')\n",
    "\n",
    "data_y = df.Gone\n",
    "X_train, X_test, y_train, y_test = train_test_split(df.drop(['Unique_Client_ID', 'Gone'],axis=1).values, data_y.values,\\\n",
    "                                                    test_size=0.2, random_state=66)\n",
    "print(X_train.shape, X_test.shape, y_train.shape, y_test.shape)"
   ]
  },
  {
   "cell_type": "markdown",
   "metadata": {},
   "source": [
    "### 3.6a. Vote between lgb model and xgboost model "
   ]
  },
  {
   "cell_type": "code",
   "execution_count": 10,
   "metadata": {},
   "outputs": [],
   "source": [
    "m_lgb = load_obj('lgbm20180727')\n",
    "m_xgb = load_obj('xgb20180801')"
   ]
  },
  {
   "cell_type": "code",
   "execution_count": 11,
   "metadata": {
    "scrolled": true
   },
   "outputs": [
    {
     "name": "stdout",
     "output_type": "stream",
     "text": [
      "AUC score:  0.9257189149983703\n"
     ]
    },
    {
     "data": {
      "image/png": "[encoded data removed]",
      "text/plain": [
       "<Figure size 432x288 with 1 Axes>"
      ]
     },
     "metadata": {},
     "output_type": "display_data"
    },
    {
     "data": {
      "image/png": "[encoded data removed]",
      "text/plain": [
       "<Figure size 432x288 with 2 Axes>"
      ]
     },
     "metadata": {},
     "output_type": "display_data"
    }
   ],
   "source": [
    "y_pred_lgb = m_lgb.predict_proba(X_test)[:,1]\n",
    "y_pred_xgb = m_xgb.predict_proba(X_test)[:,1]\n",
    "y_pred = (y_pred_lgb + y_pred_xgb) / 2\n",
    "print('AUC score: ', roc_auc_score(y_test, y_pred))\n",
    "plotROC(y_test, y_pred)\n",
    "plotPRC1(y_test, y_pred)"
   ]
  },
  {
   "cell_type": "markdown",
   "metadata": {},
   "source": [
    "### 3.6b. Vote between lgb model and nn"
   ]
  },
  {
   "cell_type": "code",
   "execution_count": 72,
   "metadata": {},
   "outputs": [],
   "source": [
    "y_pred_nn = y_pred.copy()"
   ]
  },
  {
   "cell_type": "code",
   "execution_count": 76,
   "metadata": {},
   "outputs": [],
   "source": [
    "y_pred_lgb = y_pred.copy()"
   ]
  },
  {
   "cell_type": "code",
   "execution_count": 77,
   "metadata": {
    "scrolled": true
   },
   "outputs": [
    {
     "name": "stdout",
     "output_type": "stream",
     "text": [
      "AUC score:  0.9121585322092444\n"
     ]
    },
    {
     "data": {
      "image/png": "[encoded data removed]",
      "text/plain": [
       "<Figure size 432x288 with 1 Axes>"
      ]
     },
     "metadata": {},
     "output_type": "display_data"
    },
    {
     "data": {
      "image/png": "[encoded data removed]",
      "text/plain": [
       "<Figure size 432x288 with 1 Axes>"
      ]
     },
     "metadata": {},
     "output_type": "display_data"
    }
   ],
   "source": [
    "y_pred = (y_pred_nn+y_pred_lgb)/2\n",
    "print('AUC score: ', roc_auc_score(y_test, y_pred))\n",
    "plotROC(y_test, y_pred)\n",
    "plotPRC1(y_test, y_pred)"
   ]
  },
  {
   "cell_type": "markdown",
   "metadata": {},
   "source": [
    "## Contributors <a id='part-4'>"
   ]
  },
  {
   "cell_type": "markdown",
   "metadata": {},
   "source": [
    "- Guillaume Colley (Data Science manager)\n",
    "    - Provide guidlines of building the model.\n",
    "- Yabin Guo (hired as a data scientist intern by Vancity from May 2018 to December 2018)\n",
    "    - Write the python code for this member retentioni model.\n",
    "    - Update the SQL scripts to retrieve the data from data warehouse.\n",
    "- Wei Yuen Wu (SFU researcher)\n",
    "    - Provide valued suggestions on building the model.\n",
    "- Suchita Venugopal (hired as a data scientist intern by Vancity from May 2017 to April 2018)\n",
    "    - Write the R code for this member retentioni model.\n",
    "    - Write the SQL scripts to retrieve the data from data warehouse."
   ]
  }
 ],
 "metadata": {
  "kernelspec": {
   "display_name": "Python 3",
   "language": "python",
   "name": "python3"
  },
  "language_info": {
   "codemirror_mode": {
    "name": "ipython",
    "version": 3
   },
   "file_extension": ".py",
   "mimetype": "text/x-python",
   "name": "python",
   "nbconvert_exporter": "python",
   "pygments_lexer": "ipython3",
   "version": "3.6.5"
  }
 },
 "nbformat": 4,
 "nbformat_minor": 2
}
